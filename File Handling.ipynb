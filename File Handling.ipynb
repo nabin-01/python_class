{
 "cells": [
  {
   "cell_type": "markdown",
   "metadata": {},
   "source": [
    "<!-- # Different modes of handling\n",
    "# 'r' - Read, default value, opens a file for reading\n",
    "# 'a' - opens a file for appending, it creates file\n",
    "# 'w' - open a file for writing, it clears previous strings and overwrites the file\n",
    "# 'x' - create the specific file -->"
   ]
  },
  {
   "cell_type": "code",
   "execution_count": null,
   "metadata": {},
   "outputs": [],
   "source": [
    "# 4 File accessing/opening modes\n",
    "r - opens a files for reading, leads an error if file donot exist\n",
    "w - opens a file for writing, if file already present(then overwrites) and if not present it creates a new file\n",
    "a - opens a file for appending at the end of spe.file, if file not present it creates a new file\n",
    "x - creates a file with specified name"
   ]
  },
  {
   "cell_type": "code",
   "execution_count": null,
   "metadata": {
    "collapsed": true
   },
   "outputs": [],
   "source": [
    "# b = open('file_name','access_mode')"
   ]
  },
  {
   "cell_type": "code",
   "execution_count": 23,
   "metadata": {},
   "outputs": [
    {
     "name": "stdout",
     "output_type": "stream",
     "text": [
      "The file is already there.\n"
     ]
    }
   ],
   "source": [
    "try:\n",
    "    b = open(\"class430pm.txt\",\"x\")\n",
    "    b.close()\n",
    "except FileExistsError:\n",
    "    print('The file is already there.')"
   ]
  },
  {
   "cell_type": "code",
   "execution_count": 24,
   "metadata": {},
   "outputs": [
    {
     "name": "stdout",
     "output_type": "stream",
     "text": [
      "1.Hello there!\n",
      "2.Hello there!\n",
      "3.Hello there!\n",
      "4.Hello there!\n",
      "5.Hello there!\n",
      "6.Hello there!\n",
      "7.Hello there!\n",
      "8.Hello there!\n",
      "<class 'str'>\n",
      "['1.Hello there!', '2.Hello there!', '3.Hello there!', '4.Hello there!', '5.Hello there!', '6.Hello there!', '7.Hello there!', '8.Hello there!']\n"
     ]
    }
   ],
   "source": [
    "b = open(\"class430pm.txt\",\"r\")\n",
    "c = b.read()\n",
    "print(c)# returns a complete string\n",
    "print(type(c))\n",
    "d = c.split('\\n')\n",
    "print(d)\n",
    "b.close()"
   ]
  },
  {
   "cell_type": "code",
   "execution_count": 25,
   "metadata": {},
   "outputs": [
    {
     "name": "stdout",
     "output_type": "stream",
     "text": [
      "1.Hello there\n"
     ]
    }
   ],
   "source": [
    "b = open(\"class430pm.txt\",\"r\")\n",
    "print(b.read(13))"
   ]
  },
  {
   "cell_type": "code",
   "execution_count": 26,
   "metadata": {},
   "outputs": [
    {
     "name": "stdout",
     "output_type": "stream",
     "text": [
      "enter line no: 3\n",
      "3.Hello there!\n"
     ]
    }
   ],
   "source": [
    "line_no = int(input('enter line no: '))\n",
    "print(d[line_no-1])"
   ]
  },
  {
   "cell_type": "code",
   "execution_count": 2,
   "metadata": {},
   "outputs": [
    {
     "name": "stdout",
     "output_type": "stream",
     "text": [
      "1.Hello there!\n",
      "\n"
     ]
    }
   ],
   "source": [
    "b = open(\"class430pm.txt\",\"r\")\n",
    "c = b.readline()`\n",
    "print(c)"
   ]
  },
  {
   "cell_type": "code",
   "execution_count": 3,
   "metadata": {},
   "outputs": [
    {
     "name": "stdout",
     "output_type": "stream",
     "text": [
      "['1.Hello there!\\n', '2.Hello there!\\n', '3.Hello there!\\n', '4.Hello there!\\n', '5.Hello there!\\n', '6.Hello there!\\n', '7.Hello there!\\n', '8.Hello there!']\n"
     ]
    }
   ],
   "source": [
    "b = open(\"class430pm.txt\",\"r\")\n",
    "c = b.readlines()# returns value as a list of strings,but \\n will also be added to list of strings if the file has multiple lines\n",
    "print(c)"
   ]
  },
  {
   "cell_type": "code",
   "execution_count": 28,
   "metadata": {},
   "outputs": [
    {
     "name": "stdout",
     "output_type": "stream",
     "text": [
      "1.Hello there!\n",
      "\n",
      "2.Hello there!\n",
      "\n"
     ]
    }
   ],
   "source": [
    "b = open(\"class430pm.txt\",\"r\")\n",
    "print(b.readline())\n",
    "print(b.readline())\n",
    "b.close()"
   ]
  },
  {
   "cell_type": "code",
   "execution_count": 20,
   "metadata": {},
   "outputs": [],
   "source": [
    "b = open(\"class430pm.txt\",\"a\")\n",
    "b.write(\"\\n9.Hello World\")\n",
    "b.close()"
   ]
  },
  {
   "cell_type": "code",
   "execution_count": 29,
   "metadata": {},
   "outputs": [
    {
     "name": "stdout",
     "output_type": "stream",
     "text": [
      "enter n: 2\n",
      "enter name: Ram\n",
      "enter phone no: 983453453\n",
      "enter name: Shyam\n",
      "enter phone no: 95485445\n"
     ]
    }
   ],
   "source": [
    "b = open(\"data.txt\",\"w\")\n",
    "s = \"\"\n",
    "n = int(input('enter n: '))\n",
    "for i in range(n):\n",
    "    name = input('enter name: ')\n",
    "    phone = int(input('enter phone no: '))\n",
    "    info = f\"{name} --- {phone}\\n\"\n",
    "    s+=info\n",
    "b.write(s)\n",
    "b.close()"
   ]
  },
  {
   "cell_type": "code",
   "execution_count": 23,
   "metadata": {},
   "outputs": [
    {
     "name": "stdout",
     "output_type": "stream",
     "text": [
      "Ram ----- 9845435\n",
      "Shyam Prasad ----- 5465464565\n"
     ]
    }
   ],
   "source": [
    "b = open(\"data.txt\",\"r\")# same with open('data.txt','r') as b: and it itself closes the file no need to close the file.\n",
    "c = b.read()\n",
    "print(c)\n",
    "b.close()"
   ]
  },
  {
   "cell_type": "code",
   "execution_count": 24,
   "metadata": {},
   "outputs": [
    {
     "data": {
      "text/plain": [
       "['Ram ----- 9845435', 'Shyam Prasad ----- 5465464565']"
      ]
     },
     "execution_count": 24,
     "metadata": {},
     "output_type": "execute_result"
    }
   ],
   "source": [
    "d = c.split(\"\\n\")\n",
    "d"
   ]
  },
  {
   "cell_type": "code",
   "execution_count": 25,
   "metadata": {},
   "outputs": [
    {
     "data": {
      "text/plain": [
       "['Shyam Prasad ----- 5465464565']"
      ]
     },
     "execution_count": 25,
     "metadata": {},
     "output_type": "execute_result"
    }
   ],
   "source": [
    "del d[0]\n",
    "d"
   ]
  },
  {
   "cell_type": "code",
   "execution_count": 26,
   "metadata": {},
   "outputs": [],
   "source": [
    "b = open(\"data.txt\",\"w\")\n",
    "for i in d:\n",
    "    b.write(i)# writing items from list to a text file\n",
    "b.close()"
   ]
  },
  {
   "cell_type": "code",
   "execution_count": 31,
   "metadata": {},
   "outputs": [
    {
     "name": "stdout",
     "output_type": "stream",
     "text": [
      "5345489 ----- maR\n",
      "['Ram ----- 9845435', 'Shyam Prasad ----- 5465464565']\n"
     ]
    }
   ],
   "source": [
    "d = ['Ram ----- 9845435', 'Shyam ----- 5465464565']\n",
    "print(d[0][::-1])\n",
    "for i in range(len(d)):\n",
    "    if \"Shyam\" in d[i]:\n",
    "        d[i] = d[i].replace(\"Shyam\",\"Shyam Prasad\")\n",
    "print(d)"
   ]
  },
  {
   "cell_type": "code",
   "execution_count": 15,
   "metadata": {},
   "outputs": [],
   "source": [
    "b = open(\"data.txt\",\"w\")\n",
    "for i in d:\n",
    "    b.write(f\"{i}\\n\")\n",
    "b.close()"
   ]
  },
  {
   "cell_type": "code",
   "execution_count": 43,
   "metadata": {},
   "outputs": [
    {
     "name": "stdout",
     "output_type": "stream",
     "text": [
      "enter n: 2\n",
      "enter name: DFGD\n",
      "enter phone no: 45345\n",
      "enter name: DFGDFGFDFGDF\n",
      "enter phone no: 435345345345435\n"
     ]
    }
   ],
   "source": [
    "b = open(\"data1.csv\",\"w\")\n",
    "b.write(\"name,Phone\\n\")\n",
    "s = \"\"\n",
    "n = int(input('enter n: '))\n",
    "for i in range(n):\n",
    "    name = input('enter name: ')\n",
    "    phone = int(input('enter phone no: '))\n",
    "    info = f\"{name},{phone}\\n\"\n",
    "    s+=info\n",
    "b.write(s)\n",
    "b.close()"
   ]
  },
  {
   "cell_type": "code",
   "execution_count": 44,
   "metadata": {},
   "outputs": [
    {
     "name": "stdout",
     "output_type": "stream",
     "text": [
      "enter n: 2\n",
      "enter name: NABIN\n",
      "enter phone: 9813356457\n",
      "enter name: BIJU\n",
      "enter phone: 9806029597\n"
     ]
    }
   ],
   "source": [
    "with open('data2.csv','w') as b:\n",
    "    b.write('name,phone\\n')\n",
    "    s = ''\n",
    "    n = int(input('enter n: '))\n",
    "    for i in range(n):\n",
    "        name = input('enter name: ')\n",
    "        phone = int(input('enter phone: '))\n",
    "        info = f\"{name},{phone}\\n\"\n",
    "        s+=info\n",
    "    b.write(s)"
   ]
  },
  {
   "cell_type": "code",
   "execution_count": 38,
   "metadata": {},
   "outputs": [],
   "source": [
    "# Deleting the file\n",
    "import os\n",
    "os.remove(\"data.csv\")"
   ]
  },
  {
   "cell_type": "code",
   "execution_count": 39,
   "metadata": {},
   "outputs": [
    {
     "name": "stdout",
     "output_type": "stream",
     "text": [
      "File does not exist.\n"
     ]
    }
   ],
   "source": [
    "# Checking if the file exists\n",
    "import os\n",
    "if os.path.exists(\"data.csv\"):\n",
    "    os.remove(\"data.csv\")\n",
    "else:\n",
    "    print('File does not exist.')"
   ]
  },
  {
   "cell_type": "code",
   "execution_count": 84,
   "metadata": {},
   "outputs": [
    {
     "data": {
      "text/plain": [
       "'New Folder'"
      ]
     },
     "execution_count": 84,
     "metadata": {},
     "output_type": "execute_result"
    }
   ],
   "source": [
    "# copying files in python (shutil function)\n",
    "import shutil as s\n",
    "src = \"data.txt\"\n",
    "dest = \"New Folder\"\n",
    "s.copy(src,dest)"
   ]
  },
  {
   "cell_type": "code",
   "execution_count": 45,
   "metadata": {},
   "outputs": [
    {
     "ename": "PermissionError",
     "evalue": "[Errno 13] Permission denied: 'Folder1'",
     "output_type": "error",
     "traceback": [
      "\u001b[1;31m---------------------------------------------------------------------------\u001b[0m",
      "\u001b[1;31mPermissionError\u001b[0m                           Traceback (most recent call last)",
      "\u001b[1;32m<ipython-input-45-61c15c8336a7>\u001b[0m in \u001b[0;36m<module>\u001b[1;34m\u001b[0m\n\u001b[0;32m      3\u001b[0m \u001b[0msrc\u001b[0m \u001b[1;33m=\u001b[0m \u001b[1;34m'Folder1'\u001b[0m\u001b[1;33m\u001b[0m\u001b[1;33m\u001b[0m\u001b[0m\n\u001b[0;32m      4\u001b[0m \u001b[0mdest\u001b[0m \u001b[1;33m=\u001b[0m \u001b[1;34m'Folder'\u001b[0m\u001b[1;31m# dest = \"New Folder/New Folder\" exists coz having diff directories\u001b[0m\u001b[1;33m\u001b[0m\u001b[1;33m\u001b[0m\u001b[0m\n\u001b[1;32m----> 5\u001b[1;33m \u001b[0ms\u001b[0m\u001b[1;33m.\u001b[0m\u001b[0mcopy\u001b[0m\u001b[1;33m(\u001b[0m\u001b[0msrc\u001b[0m\u001b[1;33m,\u001b[0m\u001b[0mdest\u001b[0m\u001b[1;33m)\u001b[0m\u001b[1;33m\u001b[0m\u001b[1;33m\u001b[0m\u001b[0m\n\u001b[0m",
      "\u001b[1;32m~\\anaconda3\\lib\\shutil.py\u001b[0m in \u001b[0;36mcopy\u001b[1;34m(src, dst, follow_symlinks)\u001b[0m\n\u001b[0;32m    413\u001b[0m     \u001b[1;32mif\u001b[0m \u001b[0mos\u001b[0m\u001b[1;33m.\u001b[0m\u001b[0mpath\u001b[0m\u001b[1;33m.\u001b[0m\u001b[0misdir\u001b[0m\u001b[1;33m(\u001b[0m\u001b[0mdst\u001b[0m\u001b[1;33m)\u001b[0m\u001b[1;33m:\u001b[0m\u001b[1;33m\u001b[0m\u001b[1;33m\u001b[0m\u001b[0m\n\u001b[0;32m    414\u001b[0m         \u001b[0mdst\u001b[0m \u001b[1;33m=\u001b[0m \u001b[0mos\u001b[0m\u001b[1;33m.\u001b[0m\u001b[0mpath\u001b[0m\u001b[1;33m.\u001b[0m\u001b[0mjoin\u001b[0m\u001b[1;33m(\u001b[0m\u001b[0mdst\u001b[0m\u001b[1;33m,\u001b[0m \u001b[0mos\u001b[0m\u001b[1;33m.\u001b[0m\u001b[0mpath\u001b[0m\u001b[1;33m.\u001b[0m\u001b[0mbasename\u001b[0m\u001b[1;33m(\u001b[0m\u001b[0msrc\u001b[0m\u001b[1;33m)\u001b[0m\u001b[1;33m)\u001b[0m\u001b[1;33m\u001b[0m\u001b[1;33m\u001b[0m\u001b[0m\n\u001b[1;32m--> 415\u001b[1;33m     \u001b[0mcopyfile\u001b[0m\u001b[1;33m(\u001b[0m\u001b[0msrc\u001b[0m\u001b[1;33m,\u001b[0m \u001b[0mdst\u001b[0m\u001b[1;33m,\u001b[0m \u001b[0mfollow_symlinks\u001b[0m\u001b[1;33m=\u001b[0m\u001b[0mfollow_symlinks\u001b[0m\u001b[1;33m)\u001b[0m\u001b[1;33m\u001b[0m\u001b[1;33m\u001b[0m\u001b[0m\n\u001b[0m\u001b[0;32m    416\u001b[0m     \u001b[0mcopymode\u001b[0m\u001b[1;33m(\u001b[0m\u001b[0msrc\u001b[0m\u001b[1;33m,\u001b[0m \u001b[0mdst\u001b[0m\u001b[1;33m,\u001b[0m \u001b[0mfollow_symlinks\u001b[0m\u001b[1;33m=\u001b[0m\u001b[0mfollow_symlinks\u001b[0m\u001b[1;33m)\u001b[0m\u001b[1;33m\u001b[0m\u001b[1;33m\u001b[0m\u001b[0m\n\u001b[0;32m    417\u001b[0m     \u001b[1;32mreturn\u001b[0m \u001b[0mdst\u001b[0m\u001b[1;33m\u001b[0m\u001b[1;33m\u001b[0m\u001b[0m\n",
      "\u001b[1;32m~\\anaconda3\\lib\\shutil.py\u001b[0m in \u001b[0;36mcopyfile\u001b[1;34m(src, dst, follow_symlinks)\u001b[0m\n\u001b[0;32m    259\u001b[0m         \u001b[0mos\u001b[0m\u001b[1;33m.\u001b[0m\u001b[0msymlink\u001b[0m\u001b[1;33m(\u001b[0m\u001b[0mos\u001b[0m\u001b[1;33m.\u001b[0m\u001b[0mreadlink\u001b[0m\u001b[1;33m(\u001b[0m\u001b[0msrc\u001b[0m\u001b[1;33m)\u001b[0m\u001b[1;33m,\u001b[0m \u001b[0mdst\u001b[0m\u001b[1;33m)\u001b[0m\u001b[1;33m\u001b[0m\u001b[1;33m\u001b[0m\u001b[0m\n\u001b[0;32m    260\u001b[0m     \u001b[1;32melse\u001b[0m\u001b[1;33m:\u001b[0m\u001b[1;33m\u001b[0m\u001b[1;33m\u001b[0m\u001b[0m\n\u001b[1;32m--> 261\u001b[1;33m         \u001b[1;32mwith\u001b[0m \u001b[0mopen\u001b[0m\u001b[1;33m(\u001b[0m\u001b[0msrc\u001b[0m\u001b[1;33m,\u001b[0m \u001b[1;34m'rb'\u001b[0m\u001b[1;33m)\u001b[0m \u001b[1;32mas\u001b[0m \u001b[0mfsrc\u001b[0m\u001b[1;33m,\u001b[0m \u001b[0mopen\u001b[0m\u001b[1;33m(\u001b[0m\u001b[0mdst\u001b[0m\u001b[1;33m,\u001b[0m \u001b[1;34m'wb'\u001b[0m\u001b[1;33m)\u001b[0m \u001b[1;32mas\u001b[0m \u001b[0mfdst\u001b[0m\u001b[1;33m:\u001b[0m\u001b[1;33m\u001b[0m\u001b[1;33m\u001b[0m\u001b[0m\n\u001b[0m\u001b[0;32m    262\u001b[0m             \u001b[1;31m# macOS\u001b[0m\u001b[1;33m\u001b[0m\u001b[1;33m\u001b[0m\u001b[1;33m\u001b[0m\u001b[0m\n\u001b[0;32m    263\u001b[0m             \u001b[1;32mif\u001b[0m \u001b[0m_HAS_FCOPYFILE\u001b[0m\u001b[1;33m:\u001b[0m\u001b[1;33m\u001b[0m\u001b[1;33m\u001b[0m\u001b[0m\n",
      "\u001b[1;31mPermissionError\u001b[0m: [Errno 13] Permission denied: 'Folder1'"
     ]
    }
   ],
   "source": [
    "# copies directory\n",
    "import shutil as s\n",
    "src = 'Folder1'\n",
    "dest = 'Folder'# dest = \"New Folder/New Folder\" exists coz having diff directories\n",
    "s.copy(src,dest)"
   ]
  },
  {
   "cell_type": "code",
   "execution_count": 69,
   "metadata": {},
   "outputs": [
    {
     "data": {
      "text/plain": [
       "'New Folder1\\\\New Folder'"
      ]
     },
     "execution_count": 69,
     "metadata": {},
     "output_type": "execute_result"
    }
   ],
   "source": [
    "import shutil\n",
    "shutil.move(\"New Folder\",\"New Folder1\")"
   ]
  },
  {
   "cell_type": "code",
   "execution_count": 71,
   "metadata": {},
   "outputs": [],
   "source": [
    "import os\n",
    "os.rename(\"New Folder1\",\"Folder1\")"
   ]
  }
 ],
 "metadata": {
  "kernelspec": {
   "display_name": "Python 3",
   "language": "python",
   "name": "python3"
  },
  "language_info": {
   "codemirror_mode": {
    "name": "ipython",
    "version": 3
   },
   "file_extension": ".py",
   "mimetype": "text/x-python",
   "name": "python",
   "nbconvert_exporter": "python",
   "pygments_lexer": "ipython3",
   "version": "3.8.5"
  }
 },
 "nbformat": 4,
 "nbformat_minor": 4
}
