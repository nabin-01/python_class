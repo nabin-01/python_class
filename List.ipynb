{
 "cells": [
  {
   "cell_type": "code",
   "execution_count": null,
   "metadata": {},
   "outputs": [],
   "source": [
    "List is a,\n",
    "# mutable datatype,\n",
    "# ordered,\n",
    "# follows indexing,\n",
    "# allow duplicate members"
   ]
  },
  {
   "cell_type": "code",
   "execution_count": 11,
   "metadata": {},
   "outputs": [
    {
     "name": "stdout",
     "output_type": "stream",
     "text": [
      "['apple', 'ball']\n",
      "<class 'list'>\n"
     ]
    }
   ],
   "source": [
    "a = [\"apple\",\"ball\"]\n",
    "b = [1,2,3,4]\n",
    "print(a)\n",
    "print(type(b))"
   ]
  },
  {
   "cell_type": "code",
   "execution_count": 13,
   "metadata": {},
   "outputs": [
    {
     "name": "stdout",
     "output_type": "stream",
     "text": [
      "apple\n",
      "ball\n"
     ]
    }
   ],
   "source": [
    "print(a[0])\n",
    "print(a[1])"
   ]
  },
  {
   "cell_type": "code",
   "execution_count": 14,
   "metadata": {},
   "outputs": [
    {
     "name": "stdout",
     "output_type": "stream",
     "text": [
      "['apple', 'cat']\n"
     ]
    }
   ],
   "source": [
    "a = [\"apple\", \"ball\",\"cat\",\"Dog\"]\n",
    "print(a[0:3:2])"
   ]
  },
  {
   "cell_type": "code",
   "execution_count": 15,
   "metadata": {},
   "outputs": [
    {
     "name": "stdout",
     "output_type": "stream",
     "text": [
      "['ball', 'apple', 'cat']\n"
     ]
    }
   ],
   "source": [
    "a = [\"apple\"]\n",
    "b = [\"ball\"]\n",
    "c = [\"cat\"]\n",
    "print(b+a+c)"
   ]
  },
  {
   "cell_type": "code",
   "execution_count": 16,
   "metadata": {},
   "outputs": [
    {
     "name": "stdout",
     "output_type": "stream",
     "text": [
      "['apple', 'apple', 'apple']\n"
     ]
    }
   ],
   "source": [
    "print(a*3)"
   ]
  },
  {
   "cell_type": "code",
   "execution_count": 1,
   "metadata": {},
   "outputs": [
    {
     "name": "stdout",
     "output_type": "stream",
     "text": [
      "['Apple']\n"
     ]
    }
   ],
   "source": [
    "a = \"Apple\"\n",
    "b = [a]\n",
    "print(b)"
   ]
  },
  {
   "cell_type": "code",
   "execution_count": 21,
   "metadata": {},
   "outputs": [
    {
     "name": "stdout",
     "output_type": "stream",
     "text": [
      "[['apple'], ['ball']]\n"
     ]
    }
   ],
   "source": [
    "a = [\"apple\"]\n",
    "b = [a]\n",
    "b.append([\"ball\"])\n",
    "\n",
    "print(b)"
   ]
  },
  {
   "cell_type": "code",
   "execution_count": 40,
   "metadata": {},
   "outputs": [
    {
     "name": "stdout",
     "output_type": "stream",
     "text": [
      "['Ram']\n"
     ]
    }
   ],
   "source": [
    "a = []\n",
    "b = \"Ram\"\n",
    "print(a+[b])"
   ]
  },
  {
   "cell_type": "code",
   "execution_count": 41,
   "metadata": {},
   "outputs": [
    {
     "name": "stdout",
     "output_type": "stream",
     "text": [
      "enter n: 2\n",
      "enter name: nabin\n",
      "enter name: nabin1\n",
      "['nabin', 'nabin1']\n"
     ]
    }
   ],
   "source": [
    "# Creating list with loop\n",
    "a = []\n",
    "n = int(input('enter n: '))\n",
    "for i in range(n):\n",
    "    name = input('enter name: ')\n",
    "    a += [name]\n",
    "print(a)"
   ]
  },
  {
   "cell_type": "code",
   "execution_count": 42,
   "metadata": {},
   "outputs": [
    {
     "name": "stdout",
     "output_type": "stream",
     "text": [
      "enter int: 2\n",
      "enter c: 3\n",
      "enter c: 4\n",
      "the list is:  [3, 4]\n",
      "the max value is:  4\n",
      "the min value is:  3\n",
      "the sum is:  7\n",
      "the average is:  3.5\n"
     ]
    }
   ],
   "source": [
    "# define an empty list while working with lists\n",
    "# (i.e.while adding list elements)\n",
    "a = []\n",
    "n = int(input('enter int: '))\n",
    "for i in range(n):\n",
    "    x = int(input('enter c: '))\n",
    "    a += [x]\n",
    "print('the list is: ', a)\n",
    "print('the max value is: ',max(a))\n",
    "print('the min value is: ', min(a))\n",
    "print('the sum is: ', sum(a))\n",
    "print('the average is: ', sum(a)/n)"
   ]
  },
  {
   "cell_type": "code",
   "execution_count": 44,
   "metadata": {},
   "outputs": [
    {
     "name": "stdout",
     "output_type": "stream",
     "text": [
      "['dshfbhje', 'jaweiuw', 'skjdfbhs', 'zebra']\n"
     ]
    }
   ],
   "source": [
    "a = [\"zebra\",\"dshfbhje\",\"jaweiuw\",\"skjdfbhs\"]\n",
    "a.sort()\n",
    "print(a)"
   ]
  },
  {
   "cell_type": "code",
   "execution_count": 45,
   "metadata": {},
   "outputs": [
    {
     "name": "stdout",
     "output_type": "stream",
     "text": [
      "['skjdfbhs', 'jaweiuw', 'dshfbhje', 'zebra']\n"
     ]
    }
   ],
   "source": [
    "a = [\"zebra\",\"dshfbhje\",\"jaweiuw\",\"skjdfbhs\"]\n",
    "a.reverse()\n",
    "print(a)"
   ]
  },
  {
   "cell_type": "code",
   "execution_count": 46,
   "metadata": {},
   "outputs": [
    {
     "name": "stdout",
     "output_type": "stream",
     "text": [
      "['zebra', 'skjdfbhs', 'jaweiuw', 'dshfbhje']\n"
     ]
    }
   ],
   "source": [
    "a = [\"zebra\",\"dshfbhje\",\"jaweiuw\",\"skjdfbhs\"]\n",
    "a.sort(reverse = True)\n",
    "print(a)"
   ]
  },
  {
   "cell_type": "code",
   "execution_count": 14,
   "metadata": {},
   "outputs": [
    {
     "name": "stdout",
     "output_type": "stream",
     "text": [
      "0 zebra,1 dshfbhje,2 jaweiuw,3 skjdfbhs,3 skjdfbhs\n"
     ]
    }
   ],
   "source": [
    "a = [\"zebra\",\"dshfbhje\",\"jaweiuw\",\"skjdfbhs\"]\n",
    "n = len(a)\n",
    "for i in range(n):\n",
    "    print(i,a[i], end =\",\")   "
   ]
  },
  {
   "cell_type": "code",
   "execution_count": 54,
   "metadata": {},
   "outputs": [
    {
     "name": "stdout",
     "output_type": "stream",
     "text": [
      "zebra\n",
      "dshfbhje\n",
      "jaweiuw\n",
      "skjdfbhs\n"
     ]
    }
   ],
   "source": [
    "a = [\"zebra\",\"dshfbhje\",\"jaweiuw\",\"skjdfbhs\"]\n",
    "for i in a:\n",
    "    print(i)"
   ]
  },
  {
   "cell_type": "code",
   "execution_count": 18,
   "metadata": {},
   "outputs": [
    {
     "name": "stdout",
     "output_type": "stream",
     "text": [
      "zebra\n"
     ]
    }
   ],
   "source": [
    "a = [\"zebra\",\"dshfbhje\",\"jaweiuw\",\"skjdfbhs\"]\n",
    "for i in a:\n",
    "    if i == \"zebra\":\n",
    "        break\n",
    "print(i)"
   ]
  },
  {
   "cell_type": "code",
   "execution_count": 12,
   "metadata": {},
   "outputs": [
    {
     "name": "stdout",
     "output_type": "stream",
     "text": [
      "dshfbhje\n",
      "jaweiuw\n",
      "skjdfbhs\n"
     ]
    }
   ],
   "source": [
    "a = [\"zebra\",\"dshfbhje\",\"jaweiuw\",\"skjdfbhs\"]\n",
    "for i in a:\n",
    "    if i == \"zebra\":\n",
    "        continue\n",
    "    print(i)"
   ]
  },
  {
   "cell_type": "code",
   "execution_count": 66,
   "metadata": {},
   "outputs": [
    {
     "name": "stdout",
     "output_type": "stream",
     "text": [
      "yes, 1\n"
     ]
    }
   ],
   "source": [
    "a = [\"zebra\",\"dshfbhje\",\"jaweiuw\",\"skjdfbhs\"]\n",
    "if \"zebra\" in a:\n",
    "    print('yes,', a.count(\"zebra\"))"
   ]
  },
  {
   "cell_type": "code",
   "execution_count": 13,
   "metadata": {},
   "outputs": [
    {
     "name": "stdout",
     "output_type": "stream",
     "text": [
      "['apple']\n"
     ]
    }
   ],
   "source": [
    "a = [] # or a = list()\n",
    "a.append(\"apple\")\n",
    "print(a)"
   ]
  },
  {
   "cell_type": "code",
   "execution_count": 78,
   "metadata": {},
   "outputs": [
    {
     "name": "stdout",
     "output_type": "stream",
     "text": [
      "enter n: 2\n",
      "enter name: nabin\n",
      "enter name: nabin1\n",
      "['nabin', 'nabin1']\n"
     ]
    }
   ],
   "source": [
    "a = []\n",
    "n = int(input('enter n: '))\n",
    "for i in range(n):\n",
    "    name = input('enter name: ')\n",
    "    b = a.append(name)\n",
    "print(a)"
   ]
  },
  {
   "cell_type": "code",
   "execution_count": 79,
   "metadata": {},
   "outputs": [
    {
     "name": "stdout",
     "output_type": "stream",
     "text": [
      "['zebra', 'dshfbhje', 'Bag', 'jaweiuw', 'skjdfbhs', 'zebra']\n"
     ]
    }
   ],
   "source": [
    "a = [\"zebra\",\"dshfbhje\",\"jaweiuw\",\"skjdfbhs\",\"zebra\"]\n",
    "a.insert(2,\"Bag\")\n",
    "print(a)"
   ]
  },
  {
   "cell_type": "code",
   "execution_count": 80,
   "metadata": {},
   "outputs": [
    {
     "name": "stdout",
     "output_type": "stream",
     "text": [
      "['zebra', 'X-ray', 'jaweiuw', 'skjdfbhs']\n"
     ]
    }
   ],
   "source": [
    "a = [\"zebra\",\"dshfbhje\",\"jaweiuw\",\"skjdfbhs\"]\n",
    "a[1] = \"X-ray\"\n",
    "print(a)"
   ]
  },
  {
   "cell_type": "code",
   "execution_count": 86,
   "metadata": {},
   "outputs": [
    {
     "name": "stdout",
     "output_type": "stream",
     "text": [
      "['dshfbhje', 'jaweiuw', 'skjdfbhs']\n"
     ]
    }
   ],
   "source": [
    "a = [\"zebra\",\"dshfbhje\",\"jaweiuw\",\"skjdfbhs\"]\n",
    "del a[0]\n",
    "print(a)"
   ]
  },
  {
   "cell_type": "code",
   "execution_count": 87,
   "metadata": {},
   "outputs": [
    {
     "name": "stdout",
     "output_type": "stream",
     "text": [
      "['jaweiuw', 'skjdfbhs']\n"
     ]
    }
   ],
   "source": [
    "a = [\"zebra\",\"dshfbhje\",\"jaweiuw\",\"skjdfbhs\"]\n",
    "del a[0:2]\n",
    "print(a)"
   ]
  },
  {
   "cell_type": "code",
   "execution_count": 88,
   "metadata": {},
   "outputs": [
    {
     "name": "stdout",
     "output_type": "stream",
     "text": [
      "['dshfbhje', 'skjdfbhs']\n"
     ]
    }
   ],
   "source": [
    "a = [\"zebra\",\"dshfbhje\",\"jaweiuw\",\"skjdfbhs\"]\n",
    "del a[0:3:2]\n",
    "print(a)"
   ]
  },
  {
   "cell_type": "code",
   "execution_count": 92,
   "metadata": {},
   "outputs": [
    {
     "data": {
      "text/plain": [
       "0"
      ]
     },
     "execution_count": 92,
     "metadata": {},
     "output_type": "execute_result"
    }
   ],
   "source": [
    "a = [\"zebra\",\"dshfbhje\",\"jaweiuw\",\"skjdfbhs\",\"zebra\"]\n",
    "a.index(\"zebra\")"
   ]
  },
  {
   "cell_type": "code",
   "execution_count": 94,
   "metadata": {},
   "outputs": [
    {
     "name": "stdout",
     "output_type": "stream",
     "text": [
      "['dshfbhje', 'jaweiuw', 'skjdfbhs', 'zebra']\n"
     ]
    }
   ],
   "source": [
    "a = [\"zebra\",\"dshfbhje\",\"jaweiuw\",\"skjdfbhs\",\"zebra\"]\n",
    "a.remove(\"zebra\")# only deletes(first) but no return value\n",
    "print(a)"
   ]
  },
  {
   "cell_type": "code",
   "execution_count": 14,
   "metadata": {},
   "outputs": [
    {
     "data": {
      "text/plain": [
       "'dshfbhje'"
      ]
     },
     "execution_count": 14,
     "metadata": {},
     "output_type": "execute_result"
    }
   ],
   "source": [
    "a = [\"zebra\",\"dshfbhje\",\"jaweiuw\",\"skjdfbhs\"]\n",
    "a.pop(1)# deletes and returns value"
   ]
  },
  {
   "cell_type": "code",
   "execution_count": 15,
   "metadata": {},
   "outputs": [
    {
     "name": "stdout",
     "output_type": "stream",
     "text": [
      "['zebra', 'jaweiuw', 'skjdfbhs']\n"
     ]
    }
   ],
   "source": [
    "a = [\"zebra\",\"dshfbhje\",\"jaweiuw\",\"skjdfbhs\"]\n",
    "a.pop(1)# deletes and returns value\n",
    "print(a)"
   ]
  },
  {
   "cell_type": "code",
   "execution_count": 99,
   "metadata": {},
   "outputs": [
    {
     "name": "stdout",
     "output_type": "stream",
     "text": [
      "['dshfbhje', 'jaweiuw', 'skjdfbhs']\n"
     ]
    }
   ],
   "source": [
    "#deleting all duplicate values\n",
    "#first count the values and take a loop for that count\n",
    "a = [\"zebra\",\"dshfbhje\",\"jaweiuw\",\"skjdfbhs\",\"zebra\"]\n",
    "n = a.count(\"zebra\")\n",
    "for i in range(n):\n",
    "    a.remove(\"zebra\")\n",
    "print(a)"
   ]
  },
  {
   "cell_type": "code",
   "execution_count": 100,
   "metadata": {},
   "outputs": [
    {
     "name": "stdout",
     "output_type": "stream",
     "text": [
      "['dshfbhje', 'jaweiuw', 'skjdfbhs', 'zebra']\n"
     ]
    }
   ],
   "source": [
    "#deleting all duplicate values\n",
    "#first count the values and take a loop for that count\n",
    "#keep last duplicate value\n",
    "a = [\"zebra\",\"dshfbhje\",\"jaweiuw\",\"skjdfbhs\",\"zebra\"]\n",
    "n = a.count(\"zebra\")\n",
    "for i in range(n-1):\n",
    "    a.remove(\"zebra\")\n",
    "print(a)"
   ]
  },
  {
   "cell_type": "code",
   "execution_count": 17,
   "metadata": {},
   "outputs": [
    {
     "name": "stdout",
     "output_type": "stream",
     "text": [
      "0\n",
      "0\n"
     ]
    }
   ],
   "source": [
    "a = [\"zebra\",\"dshfbhje\",\"jaweiuw\",\"skjdfbhs\",\"zebra\"]\n",
    "for i in a:\n",
    "    if i == \"zebra\":\n",
    "        print(a.index(i))"
   ]
  },
  {
   "cell_type": "code",
   "execution_count": 112,
   "metadata": {},
   "outputs": [
    {
     "name": "stdout",
     "output_type": "stream",
     "text": [
      "0\n",
      "4\n"
     ]
    }
   ],
   "source": [
    "#finding index of multiple values\n",
    "a = [\"zebra\",\"dshfbhje\",\"jaweiuw\",\"skjdfbhs\",\"zebra\"]\n",
    "for i in range(len(a)):\n",
    "    if a[i] == \"zebra\":\n",
    "        print(i)"
   ]
  },
  {
   "cell_type": "code",
   "execution_count": 115,
   "metadata": {},
   "outputs": [
    {
     "name": "stdout",
     "output_type": "stream",
     "text": [
      "0\n",
      "4\n",
      "[0, 4]\n"
     ]
    }
   ],
   "source": [
    "index = []\n",
    "a = [\"zebra\",\"dshfbhje\",\"jaweiuw\",\"skjdfbhs\",\"zebra\"]\n",
    "for i in range(len(a)):\n",
    "    if a[i] == \"zebra\":\n",
    "        print(i)\n",
    "        index.append(i)\n",
    "print(index)"
   ]
  },
  {
   "cell_type": "code",
   "execution_count": 1,
   "metadata": {},
   "outputs": [
    {
     "name": "stdout",
     "output_type": "stream",
     "text": [
      "[[], [], [], []]\n",
      "4\n"
     ]
    }
   ],
   "source": [
    "a = [[],[],[],[]] #multi Dimensional list\n",
    "print(a)\n",
    "print(len(a))"
   ]
  },
  {
   "cell_type": "code",
   "execution_count": 3,
   "metadata": {},
   "outputs": [
    {
     "name": "stdout",
     "output_type": "stream",
     "text": [
      "[[1, 2, 3], [4, 5, 6], [7, 8, 9]]\n",
      "3\n"
     ]
    }
   ],
   "source": [
    "a = [[1,2,3],[4,5,6],[7,8,9]]\n",
    "print(a)\n",
    "print(len(a))"
   ]
  },
  {
   "cell_type": "code",
   "execution_count": 7,
   "metadata": {},
   "outputs": [
    {
     "name": "stdout",
     "output_type": "stream",
     "text": [
      "[[1, 2, 3], 4, 5, 6]\n"
     ]
    }
   ],
   "source": [
    "a = [[1,2,3]]\n",
    "b = [4,5,6]\n",
    "c = print(a+b)"
   ]
  },
  {
   "cell_type": "code",
   "execution_count": 9,
   "metadata": {},
   "outputs": [
    {
     "name": "stdout",
     "output_type": "stream",
     "text": [
      "[[1, 2, 3], [4, 5, 6]]\n"
     ]
    }
   ],
   "source": [
    "a = [[1,2,3]]\n",
    "b = [[4,5,6]]\n",
    "c = print(a+b)"
   ]
  },
  {
   "cell_type": "code",
   "execution_count": 8,
   "metadata": {},
   "outputs": [
    {
     "name": "stdout",
     "output_type": "stream",
     "text": [
      "4\n"
     ]
    }
   ],
   "source": [
    "a = [[1,2,3]]\n",
    "b = [4,5,6]\n",
    "c = a+b\n",
    "print(len(c))"
   ]
  },
  {
   "cell_type": "code",
   "execution_count": null,
   "metadata": {},
   "outputs": [],
   "source": [
    "#List inside list in matrix form\n",
    "my_list = []\n",
    "i = int(input(\"enter i: \"))\n",
    "j = int(input(\"enter j: \"))\n",
    "for z in range(i):\n",
    "    my_list1 = []\n",
    "    for b in range(j):\n",
    "        x = int(input('enter x: '))\n",
    "        my_list1.append(x)\n",
    "    \n",
    "    my_list.append(my_list1)\n",
    "\n",
    "print(my_list)        "
   ]
  },
  {
   "cell_type": "code",
   "execution_count": null,
   "metadata": {},
   "outputs": [],
   "source": [
    "s.split('\\n')#splits strings separated by \\n to a list elements"
   ]
  },
  {
   "cell_type": "code",
   "execution_count": 32,
   "metadata": {},
   "outputs": [
    {
     "name": "stdout",
     "output_type": "stream",
     "text": [
      "['a---232', 'b---567']\n"
     ]
    }
   ],
   "source": [
    "x = \"a---232\\nb---567\"\n",
    "a = x.split('\\n')\n",
    "print(a)"
   ]
  },
  {
   "cell_type": "code",
   "execution_count": 40,
   "metadata": {},
   "outputs": [
    {
     "name": "stdout",
     "output_type": "stream",
     "text": [
      "['a---232']\n"
     ]
    }
   ],
   "source": [
    "x = \"a---232\\nb---567\"\n",
    "a = x.split('\\n')[0:-1]\n",
    "print(a)"
   ]
  },
  {
   "cell_type": "code",
   "execution_count": 62,
   "metadata": {},
   "outputs": [
    {
     "data": {
      "text/plain": [
       "[['abc--fgh,', 'ijk--lmn']]"
      ]
     },
     "execution_count": 62,
     "metadata": {},
     "output_type": "execute_result"
    }
   ],
   "source": [
    "data = [] # splitting  every string member to a ordered list\n",
    "x = \"abc--fgh---ijk--lmn\"\n",
    "for i in range(1):\n",
    "    y = x.split('---')\n",
    "    data.append(y)\n",
    "data"
   ]
  },
  {
   "cell_type": "code",
   "execution_count": 15,
   "metadata": {},
   "outputs": [
    {
     "name": "stdout",
     "output_type": "stream",
     "text": [
      "enter n: 2\n",
      "enter name: sd\n",
      "enter phone: df\n",
      "enter name: sd\n",
      "enter phone: gr\n",
      "[['sd', 'df'], ['sd', 'gr']]\n"
     ]
    }
   ],
   "source": [
    "data = []\n",
    "n = int(input('enter n: '))\n",
    "for i in range(n):\n",
    "    name = input('enter name: ')\n",
    "    phone = input('enter phone: ')\n",
    "    info = [name,phone]\n",
    "    data.append(info)# append function adds info in list inside list format\n",
    "print(data)"
   ]
  },
  {
   "cell_type": "code",
   "execution_count": 67,
   "metadata": {},
   "outputs": [
    {
     "name": "stdout",
     "output_type": "stream",
     "text": [
      "enter n: 2\n",
      "enter name: hgfh\n",
      "enter phone: 87987\n",
      "enter name: gfhfd\n",
      "enter phone: 89879\n",
      "[['hgfh', '87987'], ['gfhfd', '89879']]\n"
     ]
    }
   ],
   "source": [
    "data = [] # Concat\n",
    "n = int(input('enter n: '))\n",
    "for i in range(n):\n",
    "    name = input('enter name: ')\n",
    "    phone = input('enter phone: ')\n",
    "    info = [[name,phone]]\n",
    "    data +=info\n",
    "print(data)"
   ]
  },
  {
   "cell_type": "code",
   "execution_count": 25,
   "metadata": {},
   "outputs": [
    {
     "name": "stdout",
     "output_type": "stream",
     "text": [
      "['Ram', 98232435233] ['Shyam', 937498347346]\n"
     ]
    },
    {
     "data": {
      "text/plain": [
       "'Shyam'"
      ]
     },
     "execution_count": 25,
     "metadata": {},
     "output_type": "execute_result"
    }
   ],
   "source": [
    "a = [['Ram', 98232435233],['Shyam', 937498347346]] #accessing data inside list\n",
    "print(a[0],a[1])#for i in a:\n",
    "                #print(i)\n",
    "a[1][0]"
   ]
  },
  {
   "cell_type": "code",
   "execution_count": 26,
   "metadata": {},
   "outputs": [
    {
     "name": "stdout",
     "output_type": "stream",
     "text": [
      "['Ram', 98232435233]\n",
      "['Shyam', 937498347346]\n"
     ]
    }
   ],
   "source": [
    "for i in a:\n",
    "    print(i)"
   ]
  },
  {
   "cell_type": "code",
   "execution_count": 69,
   "metadata": {},
   "outputs": [
    {
     "data": {
      "text/plain": [
       "[['Ram', 98232435233], ['Shyam', 937498347346]]"
      ]
     },
     "execution_count": 69,
     "metadata": {},
     "output_type": "execute_result"
    }
   ],
   "source": [
    "a = [['Ram', 98232435233],['Shyam', 937498347346]]\n",
    "a[0:2]"
   ]
  },
  {
   "cell_type": "code",
   "execution_count": 28,
   "metadata": {},
   "outputs": [
    {
     "data": {
      "text/plain": [
       "['Shyam', 937498347346]"
      ]
     },
     "execution_count": 28,
     "metadata": {},
     "output_type": "execute_result"
    }
   ],
   "source": [
    "a = [['Ram', 98232435233],['Shyam', 937498347346]]\n",
    "a[-1]"
   ]
  },
  {
   "cell_type": "code",
   "execution_count": 32,
   "metadata": {},
   "outputs": [
    {
     "data": {
      "text/plain": [
       "[['Ram', 98232435233]]"
      ]
     },
     "execution_count": 32,
     "metadata": {},
     "output_type": "execute_result"
    }
   ],
   "source": [
    "a = [['Ram', 98232435233],['Shyam', 937498347346]]\n",
    "a[0:4:2]"
   ]
  },
  {
   "cell_type": "code",
   "execution_count": 70,
   "metadata": {},
   "outputs": [
    {
     "name": "stdout",
     "output_type": "stream",
     "text": [
      "Hari\n",
      "[['Hari', 98232435233], ['Shyam', 937498347346]]\n"
     ]
    }
   ],
   "source": [
    "a = [['Ram', 98232435233],['Shyam', 937498347346]]#updating data\n",
    "a[0][0] = \"Hari\"\n",
    "print(a[0][0])\n",
    "print(a)"
   ]
  },
  {
   "cell_type": "code",
   "execution_count": 82,
   "metadata": {},
   "outputs": [
    {
     "name": "stdout",
     "output_type": "stream",
     "text": [
      "[98232435233]\n",
      "[[98232435233], ['Shyam', 937498347346]]\n"
     ]
    }
   ],
   "source": [
    "a = [['Ram', 98232435233],['Shyam', 937498347346]]#deletion of data elements\n",
    "del a[0][0]#deleted by any list item or key value\n",
    "print(a[0])\n",
    "print(a)"
   ]
  },
  {
   "cell_type": "code",
   "execution_count": 83,
   "metadata": {},
   "outputs": [
    {
     "name": "stdout",
     "output_type": "stream",
     "text": [
      "[['Shyam', 937498347346]]\n"
     ]
    }
   ],
   "source": [
    "a = [['Ram', 98232435233],['Shyam', 937498347346]]\n",
    "a.remove(a[0])#deletes by list item index\n",
    "print(a)"
   ]
  },
  {
   "cell_type": "code",
   "execution_count": 45,
   "metadata": {},
   "outputs": [
    {
     "name": "stdout",
     "output_type": "stream",
     "text": [
      "enter n: 2\n",
      "enter your name: A\n",
      "enter Physics marks: 5\n",
      "enter Chemistry marks: 6\n",
      "enter Math marks: 7\n",
      "enter English marks: 8\n",
      "enter Nepali marks: 9\n",
      "enter your name: B\n",
      "enter Physics marks: 4\n",
      "enter Chemistry marks: 5\n",
      "enter Math marks: 6\n",
      "enter English marks: 7\n",
      "enter Nepali marks: 8\n",
      "[[1, 'A', 5, 6, 7, 8, 9, 35, 7.0], [2, 'B', 4, 5, 6, 7, 8, 30, 6.0]]\n"
     ]
    }
   ],
   "source": [
    "result = []\n",
    "n = int(input('enter n: '))\n",
    "for i in range(1, n+1):\n",
    "    name = input('enter your name: ')\n",
    "    phy = int(input('enter Physics marks: '))\n",
    "    chem = int(input('enter Chemistry marks: '))\n",
    "    math = int(input('enter Math marks: '))\n",
    "    Eng = int(input('enter English marks: '))\n",
    "    Nep = int(input('enter Nepali marks: '))\n",
    "    total = sum([phy,chem,math,Eng,Nep])\n",
    "    Per = total/5\n",
    "    data = [i,name,phy,chem,math,Eng,Nep, total, Per]\n",
    "    result.append(data)\n",
    "print(result)\n",
    "    "
   ]
  },
  {
   "cell_type": "code",
   "execution_count": 46,
   "metadata": {},
   "outputs": [
    {
     "name": "stdout",
     "output_type": "stream",
     "text": [
      "enter roll no: 2\n"
     ]
    },
    {
     "data": {
      "text/plain": [
       "[2, 'B', 4, 5, 6, 7, 8, 30, 6.0]"
      ]
     },
     "execution_count": 46,
     "metadata": {},
     "output_type": "execute_result"
    }
   ],
   "source": [
    "roll = int(input('enter roll no: '))#printing element to exact roll index\n",
    "result[roll-1]"
   ]
  },
  {
   "cell_type": "code",
   "execution_count": 52,
   "metadata": {},
   "outputs": [
    {
     "data": {
      "text/plain": [
       "[[1, 'A', 6, 6, 7, 8, 9, 27, 5.4], [2, 'B', 4, 5, 6, 7, 8, 30, 6.0]]"
      ]
     },
     "execution_count": 52,
     "metadata": {},
     "output_type": "execute_result"
    }
   ],
   "source": [
    "result[0][2] = 6\n",
    "s = result[0][2:6]\n",
    "net_sum =sum(s)\n",
    "result[0][7] = net_sum\n",
    "result[0][8] = net_sum/5 #result[0][-1]\n",
    "result\n"
   ]
  },
  {
   "cell_type": "code",
   "execution_count": 1,
   "metadata": {},
   "outputs": [
    {
     "name": "stdout",
     "output_type": "stream",
     "text": [
      "enter to buy \n",
      "1:Dew,\n",
      "2:Coke,\n",
      "3:Fanta,\n",
      "4:Slice\n",
      "5:print data\n",
      "1\n",
      "the price of Dew is Rs.50\n",
      "How many: 2\n",
      "enter to buy \n",
      "1:Dew,\n",
      "2:Coke,\n",
      "3:Fanta,\n",
      "4:Slice\n",
      "5:print data\n",
      "2\n",
      "the price of Coke is Rs.45\n",
      "How many: 5\n",
      "enter to buy \n",
      "1:Dew,\n",
      "2:Coke,\n",
      "3:Fanta,\n",
      "4:Slice\n",
      "5:print data\n",
      "3\n",
      "the price of Fanta is Rs.40\n",
      "How many: 10\n",
      "enter to buy \n",
      "1:Dew,\n",
      "2:Coke,\n",
      "3:Fanta,\n",
      "4:Slice\n",
      "5:print data\n",
      "4\n",
      "the price of Slice is Rs.42\n",
      "How many: 50\n",
      "enter to buy \n",
      "1:Dew,\n",
      "2:Coke,\n",
      "3:Fanta,\n",
      "4:Slice\n",
      "5:print data\n",
      "5\n",
      "{'Dew': {'quantity': 2, 'rate': 50, 'total': 100}, 'Coke': {'quantity': 5, 'rate': 45, 'total': 225}, 'Fanta': {'quantity': 10, 'rate': 40, 'total': 400}, 'Slice': {'quantity': 50, 'rate': 42, 'price': 2100}}\n",
      "the net total is:  2825\n"
     ]
    }
   ],
   "source": [
    "p_s = {}\n",
    "sum = 0\n",
    "a,b,c,d = [['Dew',50],['Coke',45],['Fanta',40],['Slice',42]]\n",
    "\n",
    "while True:\n",
    "    UI = int(input('enter to buy \\n1:Dew,\\n2:Coke,\\n3:Fanta,\\n4:Slice\\n5:print data\\n'))\n",
    "    if UI == 1:\n",
    "        print(f'the price of {a[0]} is Rs.{a[1]}')\n",
    "        no_Dew = int(input('How many: '))\n",
    "        dew_Price = a[1]*no_Dew\n",
    "        p_s['Dew'] = {'quantity':no_Dew,'rate':a[1],'total':dew_Price}\n",
    "        sum+=dew_Price\n",
    "        \n",
    "    elif UI == 2:\n",
    "        print(f'the price of {b[0]} is Rs.{b[1]}')\n",
    "        no_Coke = int(input('How many: '))\n",
    "        coke_Price = b[1]*no_Coke\n",
    "        p_s['Coke'] = {'quantity':no_Coke,'rate':b[1],'total':coke_Price}\n",
    "        sum+=coke_Price\n",
    "        \n",
    "    elif UI == 3:\n",
    "        print(f'the price of {c[0]} is Rs.{c[1]}')\n",
    "        no_Fanta = int(input('How many: '))\n",
    "        fanta_Price = c[1]*no_Fanta\n",
    "        p_s['Fanta'] = {'quantity':no_Fanta,'rate':c[1],'total':fanta_Price}\n",
    "        sum+=fanta_Price\n",
    "        \n",
    "    elif UI == 4:\n",
    "        print(f'the price of {d[0]} is Rs.{d[1]}')\n",
    "        no_Slice = int(input('How many: '))\n",
    "        slice_Price = d[1]*no_Slice\n",
    "        p_s['Slice'] = {'quantity':no_Slice,'rate':d[1],'price':slice_Price}\n",
    "        sum+=slice_Price\n",
    "        \n",
    "    elif UI == 5:\n",
    "        print(p_s)\n",
    "        print('the net total is: ',sum)\n",
    "        break\n",
    "    else:\n",
    "        print('enter valid option!')"
   ]
  }
 ],
 "metadata": {
  "kernelspec": {
   "display_name": "Python 3",
   "language": "python",
   "name": "python3"
  },
  "language_info": {
   "codemirror_mode": {
    "name": "ipython",
    "version": 3
   },
   "file_extension": ".py",
   "mimetype": "text/x-python",
   "name": "python",
   "nbconvert_exporter": "python",
   "pygments_lexer": "ipython3",
   "version": "3.8.5"
  }
 },
 "nbformat": 4,
 "nbformat_minor": 5
}
