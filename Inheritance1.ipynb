{
 "cells": [
  {
   "cell_type": "code",
   "execution_count": 5,
   "metadata": {},
   "outputs": [
    {
     "name": "stdout",
     "output_type": "stream",
     "text": [
      "Ram\n",
      "29\n",
      "Kathmandu\n"
     ]
    }
   ],
   "source": [
    "# Public members\n",
    "class Info:\n",
    "    def __init__(self,name,age,add):\n",
    "        self.name = name\n",
    "        self.age = age\n",
    "        self.add = add\n",
    "obj = Info(\"Ram\",29,\"Kathmandu\")\n",
    "print(obj.name)\n",
    "print(obj.age)\n",
    "print(obj.add)"
   ]
  },
  {
   "cell_type": "code",
   "execution_count": 2,
   "metadata": {
    "scrolled": true
   },
   "outputs": [
    {
     "name": "stdout",
     "output_type": "stream",
     "text": [
      "Ram\n",
      "29\n",
      "Kathmandu\n"
     ]
    }
   ],
   "source": [
    "# Protected members\n",
    "class Info:\n",
    "    def __init__(self,name,age,add):\n",
    "        self._name = name\n",
    "        self._age = age\n",
    "        self._add = add\n",
    "obj = Info(\"Ram\",29,\"Kathmandu\")\n",
    "print(obj._name)# debugging purpose only\n",
    "print(obj._age)\n",
    "print(obj._add)"
   ]
  },
  {
   "cell_type": "code",
   "execution_count": 16,
   "metadata": {
    "scrolled": true
   },
   "outputs": [
    {
     "name": "stdout",
     "output_type": "stream",
     "text": [
      "Ram\n",
      "29\n",
      "Kathmandu\n"
     ]
    }
   ],
   "source": [
    "# Private members\n",
    "class Info:\n",
    "    def __init__(self,name,age,add):\n",
    "        self.__name = name\n",
    "        self.__age = age\n",
    "        self.__add = add\n",
    "obj = Info(\"Ram\",29,\"Kathmandu\")\n",
    "print(obj._Info__name)# Debugging purpose only, Name mammaling\n",
    "print(obj._Info__age)\n",
    "print(obj._Info__add)"
   ]
  },
  {
   "cell_type": "code",
   "execution_count": 27,
   "metadata": {},
   "outputs": [
    {
     "name": "stdout",
     "output_type": "stream",
     "text": [
      "Ram Kathmandu\n",
      "hell i am Ram. I am from Kathmandu.\n",
      "My phone no is 9813356457.\n"
     ]
    }
   ],
   "source": [
    "class Info:\n",
    "    def __init__(self,name,add,phone):\n",
    "        self._name = name\n",
    "        self._add = add\n",
    "        self.__phone = phone\n",
    "class Hr(Info):\n",
    "    def hr(self):\n",
    "        print(self._name,self._add)\n",
    "        print(f\"hell i am {self._name}. I am from {self._add}.\\nMy phone no is {self._Info__phone}.\")\n",
    "    \n",
    "obj = Hr('Ram','Kathmandu',9813356457)\n",
    "obj.hr()\n",
    "\n",
    "# obj1 = Hr('Shyam','Patan')\n",
    "# print(obj1.name,obj1.add)"
   ]
  },
  {
   "cell_type": "code",
   "execution_count": 4,
   "metadata": {},
   "outputs": [
    {
     "name": "stdout",
     "output_type": "stream",
     "text": [
      "hello i am Ram. I am from Kathmandu and phone no is 9845453535\n",
      "Kathmandu\n",
      "Ram\n"
     ]
    }
   ],
   "source": [
    "# Multilevel inheritance\n",
    "class Info:\n",
    "    def __init__(self,add):\n",
    "        self.__add = add\n",
    "        \n",
    "    def info(self):\n",
    "        print(self.__add)\n",
    "\n",
    "class Office(Info):\n",
    "    def __init__(self,name):\n",
    "        self._name = name\n",
    "    \n",
    "    \n",
    "class Hr(Office):\n",
    "    def __init__(self,name,add,phone):\n",
    "        Info.__init__(self,add)\n",
    "        Office.__init__(self,name)\n",
    "        self.phone = phone\n",
    "    def name(self):\n",
    "        print(self._name)\n",
    "        \n",
    "    def hr(self):\n",
    "#         print(self.name,self.add)\n",
    "        print(f\"hello i am {self._name}. I am from {self._Info__add} and phone no is {self.phone}\")\n",
    "    \n",
    "obj = Hr('Ram','Kathmandu','9845453535')\n",
    "obj.hr()\n",
    "obj.info()\n",
    "obj.name()\n",
    "# obj1 = Hr('Shyam','Patan')\n",
    "# print(obj1.name,obj1.add)"
   ]
  },
  {
   "cell_type": "code",
   "execution_count": 15,
   "metadata": {},
   "outputs": [
    {
     "name": "stdout",
     "output_type": "stream",
     "text": [
      "hello i am Ram. I am from Kathmandu,my zip_code is 43355 \n",
      "and phone no is 9845453535\n",
      "Kathmandu\n",
      "Ram\n"
     ]
    }
   ],
   "source": [
    "# Multilevel inheritance\n",
    "class Info:\n",
    "    def __init__(self,add,zip_code):\n",
    "        self.__add = add\n",
    "        self._zip_code = zip_code\n",
    "    \n",
    "    def info(self):\n",
    "        print(self.__add)\n",
    "        \n",
    "    def info1(self):\n",
    "        return self._zip_code\n",
    "\n",
    "class Office(Info):\n",
    "    def __init__(self,name):\n",
    "        self._name = name\n",
    "    \n",
    "    \n",
    "class Hr(Office):\n",
    "    def __init__(self,name,add,zip_code,phone):\n",
    "        Info.__init__(self,add,zip_code)\n",
    "        Office.__init__(self,name)\n",
    "        self.phone = phone\n",
    "    def name(self):\n",
    "        print(self._name)\n",
    "        \n",
    "    def hr(self):\n",
    "#         print(self.name,self.add)\n",
    "        print(f\"hello i am {self._name}. I am from {self._Info__add},my zip_code is {self._zip_code} \\nand phone no is {self.phone}\")\n",
    "    \n",
    "obj = Hr('Ram','Kathmandu',43355,9845453535)\n",
    "obj.hr()\n",
    "obj.info()\n",
    "obj.name()\n",
    "# obj1 = Hr('Shyam','Patan')\n",
    "# print(obj1.name,obj1.add)\n",
    "#super().info()"
   ]
  },
  {
   "cell_type": "code",
   "execution_count": 56,
   "metadata": {},
   "outputs": [
    {
     "name": "stdout",
     "output_type": "stream",
     "text": [
      "hello i am Ram. I am from Kathmandu, \n",
      "and my secret phone no is 985464564\n",
      "Ram\n",
      "985464564\n"
     ]
    }
   ],
   "source": [
    "#Multiple inheritance using section inititation\n",
    "class Info:\n",
    "    def __init__(self,add,phone):\n",
    "        self._phone = phone\n",
    "        self.__add = add\n",
    "    def myphone(self):\n",
    "        print(self._phone)\n",
    "\n",
    "class Office:\n",
    "    def __init__(self,name):\n",
    "        self.__name = name\n",
    "    def showName(self):\n",
    "        print(self.__name)\n",
    "        \n",
    "class Hr(Office,Info):\n",
    "    def __init__(self,name,add,phone):\n",
    "        Info. __init__(self,add,phone)\n",
    "        Office. __init__(self,name)\n",
    "        \n",
    "        \n",
    "    def hr(self):\n",
    "#         print(self.name,self.add)\n",
    "        print(f\"hello i am {self._Office__name}. I am from {self._Info__add}, \\nand my secret phone no is {self._phone}\")\n",
    "    \n",
    "obj = Hr('Ram','Kathmandu',985464564)\n",
    "obj.hr()\n",
    "obj.showName()\n",
    "obj.myphone()\n",
    "# obj1 = Hr('Shyam','Patan')\n",
    "# print(obj1.name,obj1.add)"
   ]
  },
  {
   "cell_type": "code",
   "execution_count": 16,
   "metadata": {},
   "outputs": [
    {
     "name": "stdout",
     "output_type": "stream",
     "text": [
      "hello i am Ram. I am from Kathmandu, \n",
      "and my secret phone no is 985464564\n",
      "Ram\n",
      "985464564\n"
     ]
    }
   ],
   "source": [
    "#Multiple inheritance using section inititation\n",
    "class Info:\n",
    "    def __init__(self,add):\n",
    "        self.add = add\n",
    "    def myphone(self):\n",
    "        print(self._Hr__phone)\n",
    "\n",
    "class Office:\n",
    "    def __init__(self,name):\n",
    "        self.name = name\n",
    "    def showName(self):\n",
    "        print(self.name)\n",
    "        \n",
    "class Hr(Office,Info):\n",
    "    def __init__(self,name,add,phone):\n",
    "        Info. __init__(self,add)\n",
    "        Office. __init__(self,name)\n",
    "        self.__phone = phone\n",
    "        \n",
    "        \n",
    "    def hr(self):\n",
    "#         print(self.name,self.add)\n",
    "        print(f\"hello i am {self.name}. I am from {self.add}, \\nand my secret phone no is {self.__phone}\")\n",
    "    \n",
    "obj = Hr('Ram','Kathmandu',985464564)\n",
    "obj.hr()\n",
    "obj.showName()\n",
    "obj.myphone()\n",
    "# obj1 = Hr('Shyam','Patan')\n",
    "# print(obj1.name,obj1.add)"
   ]
  },
  {
   "cell_type": "code",
   "execution_count": 38,
   "metadata": {
    "scrolled": true
   },
   "outputs": [
    {
     "name": "stdout",
     "output_type": "stream",
     "text": [
      "9845455646\n",
      "Ram\n",
      "Kathmandu\n",
      "hello i am Ram. I am from Kathmandu, \n",
      "and my secret phone no is 985464564\n",
      "Ram\n",
      "985464564\n",
      "Shyam Patan 984534\n"
     ]
    }
   ],
   "source": [
    "#Multiple inheritance using section inititation\n",
    "class Info:\n",
    "    def __init__(self,name,addr):\n",
    "        self._name = name\n",
    "        self.__addr = addr\n",
    "        \n",
    "    def showName(self):\n",
    "        print(self._name)\n",
    "        \n",
    "    def showAddr(self):\n",
    "        print(self.__addr)\n",
    "\n",
    "class Office(Info):\n",
    "    def __init__(self,name,addr,phone):\n",
    "        Info.__init__(self,name,addr)\n",
    "        Hr.__init__(self,name,addr,phone)\n",
    "        \n",
    "    def myphone(self):\n",
    "        print(self._Hr__phone)\n",
    "    \n",
    "        \n",
    "class Hr(Office,Info):\n",
    "    def __init__(self,name,addr,phone):\n",
    "        Info.__init__(self,name,addr) \n",
    "        self.__phone = phone\n",
    "       \n",
    "        \n",
    "    def hr(self):\n",
    "#         print(self.name,self.add)\n",
    "        print(f\"hello i am {self._name}. I am from {self._Info__addr}, \\nand my secret phone no is {self._Hr__phone}\")\n",
    "    \n",
    "obj = Office(\"Ram\",\"Kathmandu\",9845455646)\n",
    "obj.myphone()\n",
    "obj.showName()\n",
    "obj.showAddr()\n",
    "obj1 = Hr('Ram','Kathmandu',985464564)\n",
    "obj1.hr()\n",
    "obj1.showName()\n",
    "obj1.myphone()\n",
    "obj2 = Hr('Shyam','Patan',984534)\n",
    "print(obj2._name,obj2._Info__addr,obj2._Hr__phone)"
   ]
  },
  {
   "cell_type": "code",
   "execution_count": 19,
   "metadata": {},
   "outputs": [
    {
     "name": "stdout",
     "output_type": "stream",
     "text": [
      "this is 1st init method: 2\n",
      "this is 2st init method: 3\n",
      "this is 1st init method: -1\n",
      "this is 2st init method: 0\n",
      "this is 1st add method: 1\n",
      "this is 2nd add method: 3\n",
      "this is 1st init method: 1\n",
      "this is 2st init method: 3\n",
      "this is str method: 1 3\n",
      "1,3\n"
     ]
    }
   ],
   "source": [
    "class Point:\n",
    "    def __init__(self,x,y):\n",
    "        self.x = x\n",
    "        print('this is 1st init method:',self.x)\n",
    "        self.y = y\n",
    "        print('this is 2st init method:',self.y)\n",
    "    def __str__(self):\n",
    "        print('this is str method:',self.x,self.y)\n",
    "        return f\"{self.x},{self.y}\"\n",
    "    \n",
    "    def __add__(self,other):\n",
    "        x = self.x + other.x\n",
    "        print('this is 1st add method:',x)\n",
    "        y = self.y + other.y\n",
    "        print('this is 2nd add method:',y)\n",
    "        return Point(x,y)\n",
    "\n",
    "p1 = Point(2,3)\n",
    "p2 = Point(-1,0)\n",
    "print(p1+p2)\n",
    "        "
   ]
  },
  {
   "cell_type": "code",
   "execution_count": 60,
   "metadata": {},
   "outputs": [
    {
     "name": "stdout",
     "output_type": "stream",
     "text": [
      "7000\n"
     ]
    }
   ],
   "source": [
    "class Point:\n",
    "    def __init__(self,x):\n",
    "        self.x = x\n",
    "    def __str__(self):\n",
    "        return f\"{self.x}\"\n",
    "    def __add__(self,other):\n",
    "        x = self.x + other.x\n",
    "        return Point(x)\n",
    "\n",
    "p1 = Point(1000)\n",
    "p2 = Point(2500)\n",
    "p3 = Point(3500)\n",
    "print(p1+p2+p3)\n",
    "        "
   ]
  },
  {
   "cell_type": "code",
   "execution_count": 62,
   "metadata": {},
   "outputs": [
    {
     "name": "stdout",
     "output_type": "stream",
     "text": [
      "This is init method:  1000\n",
      "This is init method:  2500\n",
      "This is init method:  3500\n",
      "this is add method:  3500\n",
      "This is init method:  3500\n",
      "this is add method:  7000\n",
      "This is init method:  7000\n",
      "This is str method:  7000\n",
      "7000\n"
     ]
    }
   ],
   "source": [
    "class Point:\n",
    "    def __init__(self,x):\n",
    "        self.x = x\n",
    "        print('This is init method: ',self.x)\n",
    "        \n",
    "    def __str__(self):\n",
    "        print('This is str method: ',self.x)\n",
    "        return f\"{self.x}\"\n",
    "    \n",
    "    def __add__(self,other):\n",
    "        x = self.x + other.x\n",
    "        print('this is add method: ',x)\n",
    "        return Point(x)\n",
    "\n",
    "p1 = Point(1000)\n",
    "p2 = Point(2500)\n",
    "p3 = Point(3500)\n",
    "print(p1+p2+p3)\n",
    "        "
   ]
  }
 ],
 "metadata": {
  "kernelspec": {
   "display_name": "Python 3",
   "language": "python",
   "name": "python3"
  },
  "language_info": {
   "codemirror_mode": {
    "name": "ipython",
    "version": 3
   },
   "file_extension": ".py",
   "mimetype": "text/x-python",
   "name": "python",
   "nbconvert_exporter": "python",
   "pygments_lexer": "ipython3",
   "version": "3.8.5"
  }
 },
 "nbformat": 4,
 "nbformat_minor": 4
}
