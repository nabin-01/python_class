{
 "cells": [
  {
   "cell_type": "code",
   "execution_count": 8,
   "metadata": {
    "scrolled": true
   },
   "outputs": [
    {
     "name": "stdout",
     "output_type": "stream",
     "text": [
      "['1', 'nabin', '25', 'Boudha']\n",
      "nabin\n",
      "['2', 'sujata', '19', 'Chabahil']\n",
      "sujata\n",
      "['3', 'Roshan Dai', '27', 'Budhabare(Jaypur)']\n",
      "Roshan Dai\n",
      "['4', 'Asmee', '26', 'Boudha']\n",
      "Asmee\n",
      "['5', 'Dikshya', '22', 'Gaushala']\n",
      "Dikshya\n"
     ]
    }
   ],
   "source": [
    "# reading and parsing CSV file\n",
    "import csv\n",
    "with open('data4.csv','r') as csv_file:\n",
    "    csv_reader = csv.reader(csv_file)\n",
    "    \n",
    "    next(csv_reader)# escapes the first line of field names\n",
    "    for line in csv_reader:\n",
    "        print(line)\n",
    "        print(line[1])"
   ]
  },
  {
   "cell_type": "code",
   "execution_count": 12,
   "metadata": {},
   "outputs": [],
   "source": [
    "# reading,parsing and writing CSV file\n",
    "import csv\n",
    "with open('data4.csv','r') as csv_file:\n",
    "    csv_reader = csv.reader(csv_file)\n",
    "    \n",
    "    with open('new_data.csv','w') as new_file:\n",
    "        csv_writer = csv.writer(new_file,delimiter = '\\t')\n",
    "    \n",
    "        for line in csv_reader:\n",
    "            csv_writer.writerow(line)"
   ]
  }
 ],
 "metadata": {
  "kernelspec": {
   "display_name": "Python 3",
   "language": "python",
   "name": "python3"
  },
  "language_info": {
   "codemirror_mode": {
    "name": "ipython",
    "version": 3
   },
   "file_extension": ".py",
   "mimetype": "text/x-python",
   "name": "python",
   "nbconvert_exporter": "python",
   "pygments_lexer": "ipython3",
   "version": "3.8.5"
  }
 },
 "nbformat": 4,
 "nbformat_minor": 4
}
