{
 "cells": [
  {
   "cell_type": "code",
   "execution_count": null,
   "metadata": {},
   "outputs": [],
   "source": [
    "# a = {}\n",
    "# a = {<key>:<value>,<key>:<value>,<key>:<value>}"
   ]
  },
  {
   "cell_type": "code",
   "execution_count": 7,
   "metadata": {},
   "outputs": [
    {
     "data": {
      "text/plain": [
       "dict"
      ]
     },
     "execution_count": 7,
     "metadata": {},
     "output_type": "execute_result"
    }
   ],
   "source": [
    "a = {}\n",
    "type(a)"
   ]
  },
  {
   "cell_type": "code",
   "execution_count": 8,
   "metadata": {},
   "outputs": [
    {
     "name": "stdout",
     "output_type": "stream",
     "text": [
      "{'a': 'Apple', 'b': 'Ball'}\n"
     ]
    },
    {
     "data": {
      "text/plain": [
       "'Apple'"
      ]
     },
     "execution_count": 8,
     "metadata": {},
     "output_type": "execute_result"
    }
   ],
   "source": [
    "a = {\"a\":\"Apple\",\"b\":\"Ball\"}\n",
    "print(a)\n",
    "a[\"a\"]"
   ]
  },
  {
   "cell_type": "code",
   "execution_count": null,
   "metadata": {},
   "outputs": [],
   "source": [
    "# Mutable datatype,\n",
    "# it may have multiple values,\n",
    "# has no duplicate index,\n",
    "# unordered earlier but ordered nowadays."
   ]
  },
  {
   "cell_type": "code",
   "execution_count": 9,
   "metadata": {},
   "outputs": [
    {
     "data": {
      "text/plain": [
       "{'a': 'Apple', 'b': 'Ball'}"
      ]
     },
     "execution_count": 9,
     "metadata": {},
     "output_type": "execute_result"
    }
   ],
   "source": [
    "a = {\"a\":\"Apple\",\"b\":\"Ball\"}\n",
    "a\n"
   ]
  },
  {
   "cell_type": "code",
   "execution_count": 10,
   "metadata": {},
   "outputs": [
    {
     "data": {
      "text/plain": [
       "{'a': 'Ant', 'b': 'Ball'}"
      ]
     },
     "execution_count": 10,
     "metadata": {},
     "output_type": "execute_result"
    }
   ],
   "source": [
    "a[\"a\"] = \"Ant\"\n",
    "a"
   ]
  },
  {
   "cell_type": "code",
   "execution_count": 11,
   "metadata": {},
   "outputs": [
    {
     "data": {
      "text/plain": [
       "{'a': 'Apple', 'b': 'Ball', 'c': 'Cat'}"
      ]
     },
     "execution_count": 11,
     "metadata": {},
     "output_type": "execute_result"
    }
   ],
   "source": [
    "a = {}\n",
    "a[\"a\"] = \"Apple\"\n",
    "a[\"b\"] = \"Ball\"\n",
    "a[\"c\"] = \"Cat\"\n",
    "a"
   ]
  },
  {
   "cell_type": "code",
   "execution_count": 12,
   "metadata": {},
   "outputs": [
    {
     "data": {
      "text/plain": [
       "{'a': 'Ant', 'b': 'Ball', 'c': 'Cat'}"
      ]
     },
     "execution_count": 12,
     "metadata": {},
     "output_type": "execute_result"
    }
   ],
   "source": [
    "a[\"a\"] = \"Ant\"# value of 1st index is changed(muted)\n",
    "a"
   ]
  },
  {
   "cell_type": "code",
   "execution_count": 13,
   "metadata": {},
   "outputs": [
    {
     "name": "stdout",
     "output_type": "stream",
     "text": [
      "a\n",
      "b\n",
      "c\n"
     ]
    }
   ],
   "source": [
    "for i in a:#only keys are printed\n",
    "    print(i)"
   ]
  },
  {
   "cell_type": "code",
   "execution_count": 14,
   "metadata": {},
   "outputs": [
    {
     "name": "stdout",
     "output_type": "stream",
     "text": [
      "Ant\n",
      "Ball\n",
      "Cat\n"
     ]
    }
   ],
   "source": [
    "for i in a.values():# for printing values of every keys\n",
    "    print(i)"
   ]
  },
  {
   "cell_type": "code",
   "execution_count": 16,
   "metadata": {},
   "outputs": [
    {
     "name": "stdout",
     "output_type": "stream",
     "text": [
      "('a', 'Ant')\n",
      "('b', 'Ball')\n",
      "('c', 'Cat')\n"
     ]
    }
   ],
   "source": [
    "for i in a.items():# for accessing keys, values in tuple format\n",
    "    print(i)"
   ]
  },
  {
   "cell_type": "code",
   "execution_count": 17,
   "metadata": {},
   "outputs": [
    {
     "data": {
      "text/plain": [
       "[('a', 'Ant'), ('b', 'Ball'), ('c', 'Cat')]"
      ]
     },
     "execution_count": 17,
     "metadata": {},
     "output_type": "execute_result"
    }
   ],
   "source": [
    "key_value = list()\n",
    "for i in a.items():\n",
    "    key_value.append(i)\n",
    "key_value"
   ]
  },
  {
   "cell_type": "code",
   "execution_count": 18,
   "metadata": {},
   "outputs": [
    {
     "data": {
      "text/plain": [
       "[['a', 'Ant'], ['b', 'Ball'], ['c', 'Cat']]"
      ]
     },
     "execution_count": 18,
     "metadata": {},
     "output_type": "execute_result"
    }
   ],
   "source": [
    "new_data = []#changing to list inside list\n",
    "for i in key_value:\n",
    "    j = list(i)\n",
    "    new_data.append(j)\n",
    "new_data"
   ]
  },
  {
   "cell_type": "code",
   "execution_count": 19,
   "metadata": {},
   "outputs": [
    {
     "data": {
      "text/plain": [
       "[['A', 'Ant'], ['b', 'Ball'], ['c', 'Cat']]"
      ]
     },
     "execution_count": 19,
     "metadata": {},
     "output_type": "execute_result"
    }
   ],
   "source": [
    "new_data[0][0] = \"A\"\n",
    "new_data"
   ]
  },
  {
   "cell_type": "code",
   "execution_count": 20,
   "metadata": {},
   "outputs": [
    {
     "name": "stdout",
     "output_type": "stream",
     "text": [
      "{'A': 'Ant', 'b': 'Ball', 'c': 'Cat'}\n"
     ]
    }
   ],
   "source": [
    "d = {}\n",
    "for k in new_data:\n",
    "    key = k[0]\n",
    "    value = k[1]\n",
    "    d[key] = value\n",
    "print(d)\n"
   ]
  },
  {
   "cell_type": "code",
   "execution_count": 20,
   "metadata": {},
   "outputs": [
    {
     "name": "stdout",
     "output_type": "stream",
     "text": [
      "enter no of people: 2\n",
      "enter name: A\n",
      "enter phone: 98465484657\n",
      "enter name: B\n",
      "enter phone: 9836465736\n",
      "the info. is:  {'A': 98465484657, 'B': 9836465736}\n"
     ]
    }
   ],
   "source": [
    "d = {}\n",
    "n = int(input('enter no of people: '))\n",
    "for i in range(n):\n",
    "    name = input('enter name: ')\n",
    "    ph_no = int(input('enter phone: '))\n",
    "    d[name] = ph_no\n",
    "print('the info. is: ',d)\n",
    "    "
   ]
  },
  {
   "cell_type": "code",
   "execution_count": 21,
   "metadata": {},
   "outputs": [
    {
     "data": {
      "text/plain": [
       "98465484657"
      ]
     },
     "execution_count": 21,
     "metadata": {},
     "output_type": "execute_result"
    }
   ],
   "source": [
    "d[\"A\"]"
   ]
  },
  {
   "cell_type": "code",
   "execution_count": 27,
   "metadata": {},
   "outputs": [
    {
     "data": {
      "text/plain": [
       "{'a': 'Apple', 'b': 'Ball'}"
      ]
     },
     "execution_count": 27,
     "metadata": {},
     "output_type": "execute_result"
    }
   ],
   "source": [
    "a = {\"a\": \"Apple\"}\n",
    "b = {\"b\": \"Ball\"}\n",
    "a.update(b)\n",
    "a"
   ]
  },
  {
   "cell_type": "code",
   "execution_count": 31,
   "metadata": {},
   "outputs": [
    {
     "data": {
      "text/plain": [
       "{'b': 'Ball'}"
      ]
     },
     "execution_count": 31,
     "metadata": {},
     "output_type": "execute_result"
    }
   ],
   "source": [
    "d = {'a': 'Apple', 'b': 'Ball'}\n",
    "del d[\"a\"]\n",
    "d"
   ]
  },
  {
   "cell_type": "code",
   "execution_count": 3,
   "metadata": {},
   "outputs": [
    {
     "name": "stdout",
     "output_type": "stream",
     "text": [
      "Apple\n",
      "{'b': 'Ball'}\n"
     ]
    }
   ],
   "source": [
    "d = {'a': 'Apple', 'b': 'Ball'}\n",
    "print(d.pop(\"a\"))\n",
    "print(d)"
   ]
  },
  {
   "cell_type": "code",
   "execution_count": 36,
   "metadata": {},
   "outputs": [
    {
     "name": "stdout",
     "output_type": "stream",
     "text": [
      "{'a': 'Apple', 'b': 'Ball', 'c': 'Cat'}\n"
     ]
    },
    {
     "ename": "AttributeError",
     "evalue": "'dict' object has no attribute 'remove'",
     "output_type": "error",
     "traceback": [
      "\u001b[1;31m---------------------------------------------------------------------------\u001b[0m",
      "\u001b[1;31mAttributeError\u001b[0m                            Traceback (most recent call last)",
      "\u001b[1;32m<ipython-input-36-040ddd8434ba>\u001b[0m in \u001b[0;36m<module>\u001b[1;34m\u001b[0m\n\u001b[0;32m      2\u001b[0m \u001b[0md\u001b[0m\u001b[1;33m[\u001b[0m\u001b[1;34m\"c\"\u001b[0m\u001b[1;33m]\u001b[0m \u001b[1;33m=\u001b[0m \u001b[1;34m\"Cat\"\u001b[0m\u001b[1;33m\u001b[0m\u001b[1;33m\u001b[0m\u001b[0m\n\u001b[0;32m      3\u001b[0m \u001b[0mprint\u001b[0m\u001b[1;33m(\u001b[0m\u001b[0md\u001b[0m\u001b[1;33m)\u001b[0m\u001b[1;33m\u001b[0m\u001b[1;33m\u001b[0m\u001b[0m\n\u001b[1;32m----> 4\u001b[1;33m \u001b[0md\u001b[0m\u001b[1;33m.\u001b[0m\u001b[0mremove\u001b[0m\u001b[1;33m(\u001b[0m\u001b[0md\u001b[0m\u001b[1;33m[\u001b[0m\u001b[1;34m\"b\"\u001b[0m\u001b[1;33m]\u001b[0m\u001b[1;33m)\u001b[0m\u001b[1;33m\u001b[0m\u001b[1;33m\u001b[0m\u001b[0m\n\u001b[0m\u001b[0;32m      5\u001b[0m \u001b[0mprint\u001b[0m\u001b[1;33m(\u001b[0m\u001b[0md\u001b[0m\u001b[1;33m)\u001b[0m\u001b[1;33m\u001b[0m\u001b[1;33m\u001b[0m\u001b[0m\n",
      "\u001b[1;31mAttributeError\u001b[0m: 'dict' object has no attribute 'remove'"
     ]
    }
   ],
   "source": [
    "d = {'a': 'Apple', 'b': 'Ball'}\n",
    "d[\"c\"] = \"Cat\"\n",
    "print(d)\n",
    "d.remove(d[\"b\"])# no remove attribute only del\n",
    "print(d)"
   ]
  },
  {
   "cell_type": "code",
   "execution_count": 37,
   "metadata": {},
   "outputs": [
    {
     "name": "stdout",
     "output_type": "stream",
     "text": [
      "{}\n"
     ]
    }
   ],
   "source": [
    "d = {'a': 'Apple', 'b': 'Ball'}\n",
    "d.clear()\n",
    "print(d)"
   ]
  },
  {
   "cell_type": "code",
   "execution_count": null,
   "metadata": {},
   "outputs": [],
   "source": [
    "# list inside dictionary # {[]}"
   ]
  },
  {
   "cell_type": "code",
   "execution_count": 40,
   "metadata": {},
   "outputs": [
    {
     "name": "stdout",
     "output_type": "stream",
     "text": [
      "['Apple', 'Ant']\n",
      "Apple\n",
      "Ant\n"
     ]
    }
   ],
   "source": [
    "a = {\"a\": [\"Apple\",\"Ant\"], \"b\": [\"Ball\",\"Bat\"]}\n",
    "print(a[\"a\"])\n",
    "print(a[\"a\"][0])\n",
    "print(a[\"a\"][1])"
   ]
  },
  {
   "cell_type": "code",
   "execution_count": 43,
   "metadata": {},
   "outputs": [
    {
     "name": "stdout",
     "output_type": "stream",
     "text": [
      "enter no of people: 2\n",
      "enter name: A\n",
      "enter ntc phone: 948778756435\n",
      "enter ncell phone:8957893475\n",
      "enter name: B\n",
      "enter ntc phone: 84875896\n",
      "enter ncell phone:984375\n",
      "the info. is:  {'A': [948778756435, 8957893475], 'B': [84875896, 984375]}\n"
     ]
    }
   ],
   "source": [
    "#List inside dictionary # {[]}\n",
    "d = {}\n",
    "n = int(input('enter no of people: '))\n",
    "for i in range(n):\n",
    "    name = input('enter name: ')\n",
    "    ntc = int(input('enter ntc phone: '))\n",
    "    ncell = int(input('enter ncell phone:'))\n",
    "    d[name] = [ntc,ncell]\n",
    "print('the info. is: ',d)"
   ]
  },
  {
   "cell_type": "code",
   "execution_count": 44,
   "metadata": {},
   "outputs": [
    {
     "data": {
      "text/plain": [
       "[948778756435, 8957893475]"
      ]
     },
     "execution_count": 44,
     "metadata": {},
     "output_type": "execute_result"
    }
   ],
   "source": [
    "d[\"A\"]"
   ]
  },
  {
   "cell_type": "code",
   "execution_count": 45,
   "metadata": {},
   "outputs": [
    {
     "data": {
      "text/plain": [
       "{'A': [948778756435, 8957893475, '0984574566'], 'B': [84875896, 984375]}"
      ]
     },
     "execution_count": 45,
     "metadata": {},
     "output_type": "execute_result"
    }
   ],
   "source": [
    "d = {'A': [948778756435, 8957893475], 'B': [84875896, 984375]}\n",
    "d[\"A\"].append(\"0984574566\")\n",
    "d\n",
    "        "
   ]
  },
  {
   "cell_type": "code",
   "execution_count": 46,
   "metadata": {},
   "outputs": [
    {
     "data": {
      "text/plain": [
       "{'A': [948778756435, 8957893475, 974857], 'B': [84875896, 984375]}"
      ]
     },
     "execution_count": 46,
     "metadata": {},
     "output_type": "execute_result"
    }
   ],
   "source": [
    "d[\"A\"][2] = 974857\n",
    "d"
   ]
  },
  {
   "cell_type": "code",
   "execution_count": 5,
   "metadata": {},
   "outputs": [
    {
     "data": {
      "text/plain": [
       "{'B': [84875896, 984375]}"
      ]
     },
     "execution_count": 5,
     "metadata": {},
     "output_type": "execute_result"
    }
   ],
   "source": [
    "d = {'A': [948778756435, 8957893475, 974857], 'B': [84875896, 984375]}\n",
    "del d[\"A\"][2]\n",
    "del d[\"A\"]\n",
    "d"
   ]
  },
  {
   "cell_type": "code",
   "execution_count": 54,
   "metadata": {},
   "outputs": [
    {
     "name": "stdout",
     "output_type": "stream",
     "text": [
      "enter no of people: 2\n",
      "enter name: ABC\n",
      "enter price: 200\n",
      "enter quantity: 10\n",
      "enter name: XYZ\n",
      "enter price: 300\n",
      "enter quantity: 20\n",
      "{'ABC': [200, 10, 2000], 'XYZ': [300, 20, 6000]}\n"
     ]
    }
   ],
   "source": [
    "# Dictionary with multiple values\n",
    "#list inside dictionary# {[]}\n",
    "d = {}\n",
    "n = int(input('enter no of people: '))\n",
    "for i in range(n):\n",
    "    name = input('enter name: ')\n",
    "    price = int(input('enter price: '))\n",
    "    quantity = int(input('enter quantity: '))\n",
    "    total = price*quantity\n",
    "    d[name] = [price,quantity,total]\n",
    "print(d)"
   ]
  },
  {
   "cell_type": "code",
   "execution_count": 56,
   "metadata": {},
   "outputs": [
    {
     "data": {
      "text/plain": [
       "{'Name': 'Ram', 'Phone': '9846456465'}"
      ]
     },
     "execution_count": 56,
     "metadata": {},
     "output_type": "execute_result"
    }
   ],
   "source": [
    "#Dictionary inside list\n",
    "a = [{\"Name\": \"Ram\",\"Phone\": \"9846456465\"},{\"Name\": \"Shyam\", \"Phone\": \"983535464\"},{\"Name\": \"hari\", \"Phone\": \"9835354334\"}]\n",
    "a[0]\n"
   ]
  },
  {
   "cell_type": "code",
   "execution_count": 57,
   "metadata": {},
   "outputs": [
    {
     "name": "stdout",
     "output_type": "stream",
     "text": [
      "{'Name': 'Ram', 'Phone': '9846456465'}\n",
      "{'Name': 'Shyam', 'Phone': '983535464'}\n",
      "{'Name': 'hari', 'Phone': '9835354334'}\n"
     ]
    }
   ],
   "source": [
    "for i in a:\n",
    "    print(i)"
   ]
  },
  {
   "cell_type": "code",
   "execution_count": 62,
   "metadata": {},
   "outputs": [
    {
     "name": "stdout",
     "output_type": "stream",
     "text": [
      "enter no of people: 2\n",
      "enter name: a\n",
      "enter price: 45\n",
      "enter quantity: 56\n",
      "enter name: B\n",
      "enter price: 3\n",
      "enter quantity: 5\n",
      "the info is:  [{'name': 'a', 'price': 45, 'quantity': 56, 'total': 2520}, {'name': 'B', 'price': 3, 'quantity': 5, 'total': 15}]\n",
      "net total is:  2535\n"
     ]
    }
   ],
   "source": [
    "#Dictionary inside list # [{}]\n",
    "#Api\n",
    "#templates\n",
    "d = []\n",
    "s = 0\n",
    "n = int(input('enter no of people: '))\n",
    "for i in range(n):\n",
    "    name = input('enter name: ')\n",
    "    price = int(input('enter price: '))\n",
    "    quantity = int(input('enter quantity: '))\n",
    "    total = price*quantity\n",
    "    s += total\n",
    "    data = {\"name\": name, \"price\": price, \"quantity\": quantity, \"total\":total}\n",
    "    d.append(data)\n",
    "print(\"the info is: \",d)\n",
    "print(\"net total is: \",s)"
   ]
  },
  {
   "cell_type": "code",
   "execution_count": null,
   "metadata": {},
   "outputs": [],
   "source": [
    "# change management in dic. inside list"
   ]
  },
  {
   "cell_type": "code",
   "execution_count": 64,
   "metadata": {},
   "outputs": [
    {
     "data": {
      "text/plain": [
       "11200"
      ]
     },
     "execution_count": 64,
     "metadata": {},
     "output_type": "execute_result"
    }
   ],
   "source": [
    "d[0][\"price\"] = 200\n",
    "q = d[0][\"quantity\"]\n",
    "total = d[0][\"price\"]*q\n",
    "total\n"
   ]
  },
  {
   "cell_type": "code",
   "execution_count": 65,
   "metadata": {},
   "outputs": [
    {
     "data": {
      "text/plain": [
       "[{'name': 'a', 'price': 200, 'quantity': 56, 'total': 11200},\n",
       " {'name': 'B', 'price': 3, 'quantity': 5, 'total': 15}]"
      ]
     },
     "execution_count": 65,
     "metadata": {},
     "output_type": "execute_result"
    }
   ],
   "source": [
    "d[0][\"total\"] = total\n",
    "d"
   ]
  },
  {
   "cell_type": "code",
   "execution_count": 16,
   "metadata": {},
   "outputs": [
    {
     "name": "stdout",
     "output_type": "stream",
     "text": [
      "enter index: 0\n",
      "enter an option\n",
      " 1: to change quantity\n",
      " 2: to change price\n",
      " 3: to change both\n",
      " 4: to quit: 1\n",
      "enter new quantity: 20\n",
      "[{'name': 'a', 'price': 45, 'quantity': 20, 'total': 900}, {'name': 'B', 'price': 3, 'quantity': 5, 'total': 15}]\n",
      "900\n",
      "the net total is: 915\n"
     ]
    }
   ],
   "source": [
    "total = 0\n",
    "d = [{'name': 'a', 'price': 45, 'quantity': 56, 'total': 2520}, {'name': 'B', 'price': 3, 'quantity': 5, 'total': 15}]\n",
    "i = int(input('enter index: '))\n",
    "U_I = int(input('enter an option\\n 1: to change quantity\\n 2: to change price\\n 3: to change both\\n 4: to quit: '))\n",
    "if U_I == 1:\n",
    "    q = int(input('enter new quantity: '))\n",
    "    d[i][\"quantity\"] = q\n",
    "    total = q*d[i]['price']\n",
    "elif U_I == 2:\n",
    "    p = int(input('enter new price: '))\n",
    "    d[i][\"price\"] = p\n",
    "    total = p*d[i]['quantity']\n",
    "elif U_I == 3:\n",
    "    q = int(input('enter new quantity: '))\n",
    "    p = int(input('enter new price: '))\n",
    "    d[i][\"quantity\"] = q\n",
    "    d[i][\"price\"] = p\n",
    "    total = p*q\n",
    "elif U_I == 4:\n",
    "    print('the program is quit!')\n",
    "    exit()\n",
    "d[i]['total'] = total\n",
    "print(d)\n",
    "print(total)\n",
    "s = 0\n",
    "for i in d:\n",
    "    x = i['total']\n",
    "    s+=x\n",
    "print('the net total is:', s)"
   ]
  },
  {
   "cell_type": "code",
   "execution_count": null,
   "metadata": {},
   "outputs": [],
   "source": [
    "# WAP for result management system (update the marks if required)"
   ]
  },
  {
   "cell_type": "code",
   "execution_count": 29,
   "metadata": {},
   "outputs": [
    {
     "name": "stdout",
     "output_type": "stream",
     "text": [
      "enter n: 2\n",
      "enter name of student: NABIN\n",
      "enter english marks: 70\n",
      "enter science marks: 80\n",
      "enter math marks: 90\n",
      "enter name of student: SUJATA\n",
      "enter english marks: 80\n",
      "enter science marks: 90\n",
      "enter math marks: 90\n",
      "[{'name': 'NABIN', 'eng_marks': 70, 'sci_marks': 80, 'sum': 240, 'math_marks': 90, 'per': 80.0}, {'name': 'SUJATA', 'eng_marks': 80, 'sci_marks': 90, 'sum': 260, 'math_marks': 90, 'per': 86.67}]\n"
     ]
    }
   ],
   "source": [
    "# Dictionary inside list # [{}]\n",
    "result_list = []\n",
    "n = int(input('enter n: '))\n",
    "for i in range(n):\n",
    "    name = input('enter name of student: ')\n",
    "    eng = int(input('enter english marks: '))\n",
    "    sci = int(input('enter science marks: '))\n",
    "    math = int(input('enter math marks: '))\n",
    "    sum = eng+sci+math\n",
    "    per = round(sum/3,2)\n",
    "    d = {'name': name, 'eng_marks': eng,'sci_marks': sci,'sum': sum,'math_marks': math,'per': per }\n",
    "    result_list.append(d)\n",
    "print(result_list)"
   ]
  },
  {
   "cell_type": "code",
   "execution_count": 1,
   "metadata": {},
   "outputs": [
    {
     "name": "stdout",
     "output_type": "stream",
     "text": [
      "enter n: 2\n",
      "enter name of student: nabin\n",
      "enter english marks: 70\n",
      "enter science marks: 90\n",
      "enter math marks: 89\n",
      "enter name of student: bijju\n",
      "enter english marks: 90\n",
      "enter science marks: 90\n",
      "enter math marks: 90\n",
      "[{'name': 'nabin', 'eng': 70, 'sci': 90, 'math': 89, 'tot.marks obtained': 249, 'per': 83.0}, {'name': 'bijju', 'eng': 90, 'sci': 90, 'math': 90, 'tot.marks obtained': 270, 'per': 90.0}]\n",
      "enter the index: 1\n",
      "enter an option: \n",
      " 1: to change eng.marks,\n",
      " 2: to change sci.marks,\n",
      " 3: to change math marks:\n",
      " 4: to quit\n",
      "3\n",
      "option selected is 3.\n",
      "enter math marks: 99\n",
      "[{'name': 'nabin', 'eng': 70, 'sci': 90, 'math': 89, 'tot.marks obtained': 249, 'per': 83.0}, {'name': 'bijju', 'eng': 90, 'sci': 90, 'math': 99, 'tot.marks obtained': 279, 'per': 93.0}]\n"
     ]
    }
   ],
   "source": [
    "# Dictionary inside list # [{}]\n",
    "d = []\n",
    "total = new_total = 0\n",
    "n = int(input('enter n: '))\n",
    "for i in range(n):\n",
    "    name = input('enter name of student: ')\n",
    "    eng = int(input('enter english marks: '))\n",
    "    sci = int(input('enter science marks: '))\n",
    "    math = int(input('enter math marks: '))\n",
    "    total = eng+sci+math\n",
    "    per = round(total/3,2)\n",
    "    result = {'name': name,'eng': eng,'sci': sci,'math': math,'tot.marks obtained': total,'per': per}\n",
    "    d.append(result)\n",
    "print(d)\n",
    "j = int(input('enter the index: '))\n",
    "\n",
    "option = input('enter an option: \\n 1: to change eng.marks,\\n 2: to change sci.marks,\\n 3: to change math marks:\\n 4: to quit\\n')\n",
    "if option == '1':\n",
    "    print(f'option selected is {option}.')\n",
    "    E = int(input('enter eng marks: '))\n",
    "    d[j]['eng'] = E\n",
    "    new_total = E+ d[j]['sci']+d[j]['math']\n",
    "    d[j]['tot.marks obtained'] = new_total\n",
    "    d[j]['per'] = round(new_total/3,2)\n",
    "elif option == '2':\n",
    "    print(f'option selected is {option}.')\n",
    "    S = int(input('enter eng marks: '))\n",
    "    d[j]['sci'] = S\n",
    "    new_total = S+ d[j]['eng']+d[j]['math']\n",
    "    d[j]['tot.marks obtained'] = new_total\n",
    "    d[j]['per'] = round(new_total/3,2)\n",
    "elif option == '3':\n",
    "    print(f'option selected is {option}.')\n",
    "    M = int(input('enter math marks: '))\n",
    "    d[j]['math'] = M\n",
    "    new_total = M+ d[j]['eng']+d[j]['sci']\n",
    "    d[j]['tot.marks obtained'] = new_total\n",
    "    d[j]['per'] = round(new_total/3,2)\n",
    "elif option == '4':\n",
    "    print('the program quits!')\n",
    "    exit()\n",
    "else:\n",
    "    print('enter valid option.')\n",
    "print(d)\n"
   ]
  },
  {
   "cell_type": "code",
   "execution_count": null,
   "metadata": {},
   "outputs": [],
   "source": []
  },
  {
   "cell_type": "code",
   "execution_count": null,
   "metadata": {},
   "outputs": [],
   "source": []
  },
  {
   "cell_type": "code",
   "execution_count": null,
   "metadata": {},
   "outputs": [],
   "source": [
    "# Dictionary inside dictionary"
   ]
  },
  {
   "cell_type": "code",
   "execution_count": 34,
   "metadata": {},
   "outputs": [
    {
     "name": "stdout",
     "output_type": "stream",
     "text": [
      "{'physics': 90, 'chemistry': 78, 'math': 78, 'english': 67}\n",
      "{'physics': 92, 'chemistry': 79, 'math': 74, 'english': 45}\n"
     ]
    }
   ],
   "source": [
    "a = {\"Ram\": {\"physics\": 90, \"chemistry\": 78,\"math\": 78,\"english\": 67},\n",
    "    \"Shyam\": {\"physics\": 92, \"chemistry\": 79,\"math\": 74,\"english\": 45}}\n",
    "print(a[\"Ram\"])\n",
    "print(a[\"Shyam\"])"
   ]
  },
  {
   "cell_type": "code",
   "execution_count": 35,
   "metadata": {},
   "outputs": [
    {
     "name": "stdout",
     "output_type": "stream",
     "text": [
      "{'physics': 68, 'chemistry': 78, 'math': 78, 'english': 67}\n",
      "{'physics': 68, 'chemistry': 78, 'math': 78, 'english': 67, 'Nepali': 90}\n",
      "{'physics': 68, 'chemistry': 78, 'math': 78, 'english': 67}\n"
     ]
    }
   ],
   "source": [
    "a[\"Ram\"][\"physics\"] = 68\n",
    "print(a[\"Ram\"])\n",
    "a[\"Ram\"][\"Nepali\"] = 90\n",
    "print(a[\"Ram\"])\n",
    "del a[\"Ram\"][\"Nepali\"]\n",
    "print(a[\"Ram\"])"
   ]
  },
  {
   "cell_type": "code",
   "execution_count": 2,
   "metadata": {},
   "outputs": [
    {
     "name": "stdout",
     "output_type": "stream",
     "text": [
      "{'A': 'Apple'}\n",
      "{'A': ['Apple', 'Ant']}\n",
      "{('A', 'a'): 'Apple'}\n",
      "{'A': ('Apple', 'Ant')}\n"
     ]
    }
   ],
   "source": [
    "a = {'A': 'Apple'}\n",
    "b = {\"A\": ['Apple', 'Ant']}\n",
    "c = {('A','a'): \"Apple\"} # tuple is immutable so can exist in key for m:1 relation\n",
    "#d = {['A','a']: \"Apple\"}# list/dictionary itself are mutable so cannot exist in key for m:1 relation so o/p unhashable type error\n",
    "e  = {\"A\":(\"Apple\",\"Ant\")}\n",
    "print(a)\n",
    "print(b)\n",
    "print(c)\n",
    "print(e)\n"
   ]
  },
  {
   "cell_type": "code",
   "execution_count": 36,
   "metadata": {
    "scrolled": true
   },
   "outputs": [
    {
     "name": "stdout",
     "output_type": "stream",
     "text": [
      "{'physics': 68, 'chemistry': 78, 'math': 78, 'english': 67}\n"
     ]
    }
   ],
   "source": [
    "print(a[\"Ram\"])"
   ]
  },
  {
   "cell_type": "code",
   "execution_count": 6,
   "metadata": {},
   "outputs": [
    {
     "name": "stdout",
     "output_type": "stream",
     "text": [
      "enter no of people: 2\n",
      "enter name: nabin\n",
      "enter price: 87\n",
      "enter quantity: 45\n",
      "enter name: hdfjsf\n",
      "enter price: 4\n",
      "enter quantity: 3\n",
      "the info is:  {'nabin': {'price': 87, 'quantity': 45, 'total': 3915}, 'hdfjsf': {'price': 4, 'quantity': 3, 'total': 12}}\n",
      "net total is:  3927\n"
     ]
    }
   ],
   "source": [
    "# Dictionary inside dictionary # {{}}\n",
    "d = {}\n",
    "s = 0\n",
    "n = int(input('enter no of people: '))\n",
    "for i in range(n):\n",
    "    name = input('enter name: ')\n",
    "    price = int(input('enter price: '))\n",
    "    quantity = int(input('enter quantity: '))\n",
    "    total = price*quantity\n",
    "    s += total\n",
    "    d[name] = {\"price\": price, \"quantity\": quantity, \"total\":total}\n",
    "print(\"the info is: \",d)\n",
    "print(\"net total is: \",s)"
   ]
  }
 ],
 "metadata": {
  "kernelspec": {
   "display_name": "Python 3",
   "language": "python",
   "name": "python3"
  },
  "language_info": {
   "codemirror_mode": {
    "name": "ipython",
    "version": 3
   },
   "file_extension": ".py",
   "mimetype": "text/x-python",
   "name": "python",
   "nbconvert_exporter": "python",
   "pygments_lexer": "ipython3",
   "version": "3.8.5"
  }
 },
 "nbformat": 4,
 "nbformat_minor": 5
}
