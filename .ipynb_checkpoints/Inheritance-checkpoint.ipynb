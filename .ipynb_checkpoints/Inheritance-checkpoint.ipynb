{
 "cells": [
  {
   "cell_type": "code",
   "execution_count": 15,
   "metadata": {},
   "outputs": [
    {
     "name": "stdout",
     "output_type": "stream",
     "text": [
      "Ram Kathmandu\n",
      "hell i am Ram. I am from Kathmandu\n",
      "Ram\n",
      "Shyam Patan\n"
     ]
    }
   ],
   "source": [
    "# Single Inheritance\n",
    "class Info:\n",
    "    def __init__(self,name,add):\n",
    "        self.name = name\n",
    "        self.add = add\n",
    "    def info(self):\n",
    "        print(self.name)\n",
    "class Hr(Info):\n",
    "    def hr(self):\n",
    "        print(self.name,self.add)\n",
    "        print(f\"hell i am {self.name}. I am from {self.add}\")\n",
    "    \n",
    "obj = Hr('Ram','Kathmandu')\n",
    "obj.hr()\n",
    "obj.info()\n",
    "obj1 = Hr('Shyam','Patan')\n",
    "print(obj1.name,obj1.add)"
   ]
  },
  {
   "cell_type": "code",
   "execution_count": 10,
   "metadata": {},
   "outputs": [
    {
     "name": "stdout",
     "output_type": "stream",
     "text": [
      "This is class A.\n",
      "This is class B.\n",
      "This is class A.\n",
      "This is class C.\n",
      "This is class B.\n",
      "This is class A.\n"
     ]
    }
   ],
   "source": [
    "# Multilevel inheritance\n",
    "class A:\n",
    "    def a(self):\n",
    "        print('This is class A.')\n",
    "class B(A):\n",
    "    def b(self):\n",
    "        print('This is class B.')\n",
    "        super().a()\n",
    "class C(B):\n",
    "    def c(self):\n",
    "        print('This is class C.')\n",
    "        super().b()\n",
    "    \n",
    "obj = C()\n",
    "obj.a()\n",
    "obj.b()\n",
    "obj.c()"
   ]
  },
  {
   "cell_type": "code",
   "execution_count": 22,
   "metadata": {},
   "outputs": [
    {
     "name": "stdout",
     "output_type": "stream",
     "text": [
      "Ram Kathmandu\n",
      "hello i am Ram. I am from Kathmandu\n",
      "Shyam Patan\n"
     ]
    }
   ],
   "source": [
    "# Single Inheritance\n",
    "class Info:\n",
    "    def __init__(self,name,add):\n",
    "        self.name = name\n",
    "        self.add = add\n",
    "    def info(self):\n",
    "        print(self.name,self.add)\n",
    "        print(f\"hello i am {self.name}. I am from {self.add}\")\n",
    "class Hr(Info):\n",
    "    def hr(self):\n",
    "        super().info()\n",
    "    \n",
    "obj = Hr('Ram','Kathmandu')\n",
    "obj.hr()\n",
    "obj1 = Hr('Shyam','Patan')\n",
    "print(obj1.name,obj1.add)"
   ]
  },
  {
   "cell_type": "code",
   "execution_count": 23,
   "metadata": {},
   "outputs": [
    {
     "name": "stdout",
     "output_type": "stream",
     "text": [
      "hello i am Ram. I am from Kathmandu\n",
      "Ram\n"
     ]
    }
   ],
   "source": [
    "#Multiple inheritance using section initiation\n",
    "class Info:\n",
    "    def __init__(self,add):\n",
    "        self.add = add\n",
    "\n",
    "class Office:\n",
    "    def __init__(self,name):\n",
    "        self.name = name\n",
    "    def showName(self):\n",
    "        print(self.name)\n",
    "        \n",
    "class Hr(Office,Info):\n",
    "    def __init__(self,name,add):\n",
    "        Info. __init__(self,add)\n",
    "        Office. __init__(self,name)\n",
    "        \n",
    "    def hr(self):\n",
    "#         print(self.name,self.add)\n",
    "        print(f\"hello i am {self.name}. I am from {self.add}\")\n",
    "    \n",
    "obj = Hr('Ram','Kathmandu')\n",
    "obj.hr()\n",
    "obj.showName()\n",
    "# obj1 = Hr('Shyam','Patan')\n",
    "# print(obj1.name,obj1.add)"
   ]
  },
  {
   "cell_type": "code",
   "execution_count": 50,
   "metadata": {},
   "outputs": [
    {
     "name": "stdout",
     "output_type": "stream",
     "text": [
      "hello i am Ram. I am from Kathmandu and phone no is 9845453535\n"
     ]
    }
   ],
   "source": [
    "# Multilevel inheritance\n",
    "class Info:\n",
    "    def __init__(self,add):\n",
    "        self.add = add\n",
    "\n",
    "class Office(Info):\n",
    "    def __init__(self,name):\n",
    "        self.name = name\n",
    "        \n",
    "class Hr(Office):\n",
    "    def __init__(self,name,add,phone):\n",
    "        Info.__init__(self,add)\n",
    "        Office.__init__(self,name)\n",
    "        self.phone = phone\n",
    "        \n",
    "    def hr(self):\n",
    "#         print(self.name,self.add)\n",
    "        print(f\"hello i am {self.name}. I am from {self.add} and phone no is {self.phone}\")\n",
    "    \n",
    "obj = Hr('Ram','Kathmandu','9845453535')\n",
    "obj.hr()\n",
    "# obj1 = Hr('Shyam','Patan')\n",
    "# print(obj1.name,obj1.add)"
   ]
  },
  {
   "cell_type": "code",
   "execution_count": 24,
   "metadata": {},
   "outputs": [
    {
     "name": "stdout",
     "output_type": "stream",
     "text": [
      "Ram  I am from Kathmandu and the phone no is 9845453535\n",
      "Shyam Patan 983543553\n"
     ]
    }
   ],
   "source": [
    "#Multilevel inheritance\n",
    "class Info:\n",
    "    def __init__(self,add):\n",
    "        self.add = add\n",
    "    def address(self):\n",
    "        return f\" I am from {self.add}\"\n",
    "\n",
    "class Office(Info):\n",
    "    def __init__(self,name):\n",
    "        self.name = name\n",
    "    def name(self):\n",
    "        return f\"hello i am {self.name}\"\n",
    "        \n",
    "class Hr(Office):\n",
    "    def __init__(self,name,add,phone):\n",
    "        Info.__init__(self,add)\n",
    "        Office.__init__(self,name)\n",
    "        self.phone = phone\n",
    "        \n",
    "    def hr(self):\n",
    "#         print(self.name,self.add)\n",
    "        print(f\"{super().name()} {super().address()} and the phone no is {self.phone}\")\n",
    "    \n",
    "obj = Hr('Ram','Kathmandu','9845453535')\n",
    "obj.hr()\n",
    "obj1 = Hr('Shyam','Patan','983543553')\n",
    "print(obj1.name,obj1.add,obj1.phone)"
   ]
  },
  {
   "cell_type": "code",
   "execution_count": 63,
   "metadata": {},
   "outputs": [
    {
     "name": "stdout",
     "output_type": "stream",
     "text": [
      "Ram\n",
      "01234A\n"
     ]
    }
   ],
   "source": [
    "class Person:\n",
    "    def __init__(self,personName,personAge):\n",
    "        self.name = personName\n",
    "        self.age = personAge\n",
    "    def showName(self):\n",
    "        print(self.name)\n",
    "    def showAge(self):\n",
    "        print(self.name)\n",
    "class Student:\n",
    "    def __init__(self,studentId):\n",
    "        self.studentId = studentId\n",
    "    def getId(self):\n",
    "        return self.studentId\n",
    "class Resident(Person,Student):\n",
    "    def __init__(self,name,age,id):\n",
    "        Person.__init__(self,name,age)\n",
    "        Student.__init__(self,id)\n",
    "\n",
    "resident = Resident ('Ram','20','01234A')\n",
    "resident.showName()\n",
    "print(resident.getId())        \n",
    "        \n",
    "        "
   ]
  }
 ],
 "metadata": {
  "kernelspec": {
   "display_name": "Python 3",
   "language": "python",
   "name": "python3"
  },
  "language_info": {
   "codemirror_mode": {
    "name": "ipython",
    "version": 3
   },
   "file_extension": ".py",
   "mimetype": "text/x-python",
   "name": "python",
   "nbconvert_exporter": "python",
   "pygments_lexer": "ipython3",
   "version": "3.8.5"
  }
 },
 "nbformat": 4,
 "nbformat_minor": 4
}
