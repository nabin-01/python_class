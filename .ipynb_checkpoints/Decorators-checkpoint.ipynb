{
 "cells": [
  {
   "cell_type": "code",
   "execution_count": 8,
   "metadata": {},
   "outputs": [
    {
     "name": "stdout",
     "output_type": "stream",
     "text": [
      "Hello there, Ram!\n"
     ]
    }
   ],
   "source": [
    "# Function inside function\n",
    "# Defining global variable msg\n",
    "msg = 'Hello there, Ram!'\n",
    "def outer_function(x):\n",
    "    def inner_function():\n",
    "        print(x)\n",
    "    return inner_function()\n",
    "outer_function(msg)"
   ]
  },
  {
   "cell_type": "code",
   "execution_count": 9,
   "metadata": {},
   "outputs": [
    {
     "name": "stdout",
     "output_type": "stream",
     "text": [
      "Hello there, Ram!\n"
     ]
    }
   ],
   "source": [
    "# Function inside function\n",
    "def outer_function():\n",
    "    msg = 'Hello there, Ram!'\n",
    "    def inner_function():\n",
    "        print(msg)\n",
    "    return inner_function()\n",
    "outer_function()"
   ]
  },
  {
   "cell_type": "code",
   "execution_count": 8,
   "metadata": {},
   "outputs": [
    {
     "name": "stdout",
     "output_type": "stream",
     "text": [
      "hello world!\n"
     ]
    }
   ],
   "source": [
    "# Function inside function using decorators\n",
    "def outer_function(fun):\n",
    "    \n",
    "    def inner_function():\n",
    "        x = fun()\n",
    "    return inner_function()\n",
    "\n",
    "@ outer_function\n",
    "def hello():\n",
    "    print('hello world!')"
   ]
  },
  {
   "cell_type": "code",
   "execution_count": 21,
   "metadata": {},
   "outputs": [
    {
     "name": "stdout",
     "output_type": "stream",
     "text": [
      "<class 'function'>\n",
      "<function strings.<locals>.wrapper at 0x0000025483E43160>\n",
      "hellow world!\n"
     ]
    }
   ],
   "source": [
    "def strings(function):\n",
    "    def wrapper():\n",
    "        fun = function()\n",
    "        x = fun.lower()\n",
    "        return x\n",
    "    return wrapper\n",
    "\n",
    "@ strings\n",
    "def info():\n",
    "    return 'Hellow WoRld!'\n",
    "\n",
    "print(type(strings))\n",
    "print(strings(info()))\n",
    "print(info())"
   ]
  },
  {
   "cell_type": "code",
   "execution_count": 28,
   "metadata": {},
   "outputs": [
    {
     "name": "stdout",
     "output_type": "stream",
     "text": [
      "<class 'function'>\n",
      "<class 'str'>\n",
      "hellow world!\n"
     ]
    },
    {
     "data": {
      "text/plain": [
       "'hellow world!'"
      ]
     },
     "execution_count": 28,
     "metadata": {},
     "output_type": "execute_result"
    }
   ],
   "source": [
    "def strings(function):\n",
    "    def wrapper():\n",
    "        x = function.lower()\n",
    "        return x\n",
    "    return wrapper()\n",
    "\n",
    "def info():\n",
    "    return 'Hellow WoRld!'\n",
    "\n",
    "print(type(strings))\n",
    "print(type(strings(info())))\n",
    "print(strings(info()))\n",
    "strings(info())"
   ]
  },
  {
   "cell_type": "code",
   "execution_count": 8,
   "metadata": {},
   "outputs": [
    {
     "name": "stdout",
     "output_type": "stream",
     "text": [
      "<function strings.<locals>.wrapper at 0x00000271C22F7280>\n",
      "hellow world!\n"
     ]
    }
   ],
   "source": [
    "def strings(function):\n",
    "    def wrapper():\n",
    "        fun = function()\n",
    "        x = fun.lower()\n",
    "        return x\n",
    "    return wrapper\n",
    "\n",
    "@ strings\n",
    "def info():\n",
    "    return 'Hellow WoRld!'\n",
    "\n",
    "# print(type(strings))\n",
    "print(strings(info))\n",
    "print(info())"
   ]
  },
  {
   "cell_type": "code",
   "execution_count": 49,
   "metadata": {},
   "outputs": [
    {
     "name": "stdout",
     "output_type": "stream",
     "text": [
      "<class 'str'>\n",
      "<class 'str'>\n"
     ]
    },
    {
     "data": {
      "text/plain": [
       "['hello', 'world']"
      ]
     },
     "execution_count": 49,
     "metadata": {},
     "output_type": "execute_result"
    }
   ],
   "source": [
    "def strings(function):\n",
    "    def wrapper():\n",
    "        fun = function()\n",
    "        x = fun.lower()\n",
    "        print(type(x))\n",
    "        return x\n",
    "    return wrapper\n",
    "    print(type(wrapper))\n",
    "def split_string(function):\n",
    "    def wrappe():\n",
    "        fun1 = function()\n",
    "        print(type(fun1))\n",
    "        splitted_string = fun1.split()\n",
    "        return splitted_string\n",
    "    return wrappe\n",
    "@split_string\n",
    "@strings\n",
    "def info():\n",
    "    return 'hello world'\n",
    "info()"
   ]
  },
  {
   "cell_type": "code",
   "execution_count": 17,
   "metadata": {},
   "outputs": [
    {
     "name": "stdout",
     "output_type": "stream",
     "text": [
      "wrapper executed this before display_info\n",
      "display_info ran with arguments (Ram,28)\n",
      "wrapper executed this before display\n",
      "display function ran!\n"
     ]
    }
   ],
   "source": [
    "# arguments passing\n",
    "def decorator_function(original_function):\n",
    "    def wrapper_function(*args,**kwargs):\n",
    "        print('wrapper executed this before {}'.format(original_function.__name__))\n",
    "        return original_function(*args,*kwargs)\n",
    "    return wrapper_function\n",
    "\n",
    "@decorator_function\n",
    "def display():\n",
    "    print('display function ran!')\n",
    "    \n",
    "# display = decorator_function(display) # Same as Decorator\n",
    "\n",
    "@decorator_function\n",
    "def display_info(name,age):\n",
    "    print('display_info ran with arguments ({},{})'.format(name,age))\n",
    "\n",
    "display_info('Ram',28)\n",
    "display()"
   ]
  },
  {
   "cell_type": "code",
   "execution_count": 22,
   "metadata": {},
   "outputs": [
    {
     "name": "stdout",
     "output_type": "stream",
     "text": [
      "wrapper executed this before display_info\n",
      "display_info ran with arguments (Ram,29)\n",
      "wrapper executed this before display\n",
      "display function ran!\n"
     ]
    }
   ],
   "source": [
    "# arguments passing\n",
    "def decorator_function(original_function):\n",
    "    def wrapper_function(*args,**kwargs):\n",
    "        print('wrapper executed this before {}'.format(original_function.__name__))\n",
    "        return original_function(*args,*kwargs)\n",
    "    return wrapper_function\n",
    "\n",
    "\n",
    "class decorator_class(object):\n",
    "    def __init__(self,original_function):\n",
    "        self.original_function = original_function\n",
    "    def __call__(self,*args,**kwargs):\n",
    "        print('wrapper executed this before {}'.format(self.original_function.__name__))\n",
    "        return self.original_function(*args,**kwargs)\n",
    "\n",
    "\n",
    "@decorator_class\n",
    "def display():\n",
    "    print('display function ran!')\n",
    "\n",
    "@decorator_class\n",
    "def display_info(name,age):\n",
    "    print('display_info ran with arguments ({},{})'.format(name,age))\n",
    "\n",
    "display_info('Ram',29)\n",
    "display()\n",
    "# @decorator_function\n",
    "# def display():\n",
    "#     print('display function ran!')\n",
    "    \n",
    "# # display = decorator_function(display) # Same as Decorator\n",
    "\n",
    "# @decorator_function\n",
    "# def display_info(name,age):\n",
    "#     print('display_info ran with arguments ({},{})'.format(name,age))\n",
    "\n",
    "# display_info('Ram',28)\n",
    "# display()"
   ]
  }
 ],
 "metadata": {
  "kernelspec": {
   "display_name": "Python 3",
   "language": "python",
   "name": "python3"
  },
  "language_info": {
   "codemirror_mode": {
    "name": "ipython",
    "version": 3
   },
   "file_extension": ".py",
   "mimetype": "text/x-python",
   "name": "python",
   "nbconvert_exporter": "python",
   "pygments_lexer": "ipython3",
   "version": "3.8.5"
  }
 },
 "nbformat": 4,
 "nbformat_minor": 4
}
