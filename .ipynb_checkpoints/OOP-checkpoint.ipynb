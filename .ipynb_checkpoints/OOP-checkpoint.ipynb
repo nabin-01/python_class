{
 "cells": [
  {
   "cell_type": "code",
   "execution_count": 4,
   "metadata": {},
   "outputs": [
    {
     "name": "stdout",
     "output_type": "stream",
     "text": [
      "hello world.\n"
     ]
    }
   ],
   "source": [
    "class Hello: # Initializing the class\n",
    "    print(\"hello world.\")\n",
    "obj = Hello() # # Initializing the object"
   ]
  },
  {
   "cell_type": "code",
   "execution_count": 8,
   "metadata": {},
   "outputs": [
    {
     "name": "stdout",
     "output_type": "stream",
     "text": [
      "hello world.\n"
     ]
    }
   ],
   "source": [
    "class Hello:\n",
    "    def hello(self):# to access any variables OR call function -> referenced through self parameter\n",
    "        print('hello world.')\n",
    "obj = Hello()\n",
    "obj.hello()"
   ]
  },
  {
   "cell_type": "code",
   "execution_count": 11,
   "metadata": {},
   "outputs": [
    {
     "name": "stdout",
     "output_type": "stream",
     "text": [
      "150\n"
     ]
    }
   ],
   "source": [
    "class Cal:\n",
    "    def area(self,l,b):\n",
    "        a = l*b\n",
    "        print(a)\n",
    "\n",
    "obj = Cal()\n",
    "obj.area(10,15)"
   ]
  },
  {
   "cell_type": "code",
   "execution_count": 10,
   "metadata": {},
   "outputs": [
    {
     "name": "stdout",
     "output_type": "stream",
     "text": [
      "150\n",
      "920\n"
     ]
    }
   ],
   "source": [
    "class Cal:\n",
    "    def area(self,l,b):\n",
    "        a = l*b\n",
    "        print(a)\n",
    "    def volume(self,l,b,h):\n",
    "        print(l*b*h) \n",
    "\n",
    "obj = Cal()\n",
    "obj.area(10,15)\n",
    "obj.volume(10,23,4)"
   ]
  },
  {
   "cell_type": "code",
   "execution_count": 14,
   "metadata": {},
   "outputs": [
    {
     "name": "stdout",
     "output_type": "stream",
     "text": [
      "150\n",
      "920\n"
     ]
    }
   ],
   "source": [
    "class Area:\n",
    "    def area(self,l,b):\n",
    "        a = l*b\n",
    "        print(a)\n",
    "class Volume:\n",
    "    def volume(self,l,b,h):\n",
    "        v = l*b*h\n",
    "        print(v) \n",
    "\n",
    "obj = Area()\n",
    "obj1 = Volume()\n",
    "obj.area(10,15)\n",
    "obj1.volume(10,23,4)"
   ]
  },
  {
   "cell_type": "code",
   "execution_count": 40,
   "metadata": {},
   "outputs": [
    {
     "name": "stdout",
     "output_type": "stream",
     "text": [
      "enter length: 20\n",
      "enter breadth: 30\n",
      "enter height: 40\n",
      "the area is:  600\n",
      "the volume is:  24000\n",
      "<class 'int'>\n"
     ]
    }
   ],
   "source": [
    "class Cal:\n",
    "    def __init__(self,x,y,z):\n",
    "        self.l = x\n",
    "        self.b = y\n",
    "        self.h = z\n",
    "    def area(self):\n",
    "        a = self.l*self.b\n",
    "        print('the area is: ',a)\n",
    "    def volume(self):\n",
    "        v = self.l*self.b*self.h\n",
    "        print('the volume is: ',v)\n",
    "\n",
    "l = int(input('enter length: '))\n",
    "b = int(input('enter breadth: '))\n",
    "h = int(input('enter height: '))\n",
    "\n",
    "obj = Cal(l,b,h)\n",
    "obj.area()\n",
    "obj.volume()"
   ]
  },
  {
   "cell_type": "code",
   "execution_count": 17,
   "metadata": {},
   "outputs": [
    {
     "name": "stdout",
     "output_type": "stream",
     "text": [
      "enter length: 10\n",
      "enter breadth: 20\n",
      "enter height: 30\n",
      "<__main__.Cal object at 0x000001ACF394CCA0>\n",
      "the area is:  200\n",
      "the volume is:  6000\n",
      "10 20 30\n"
     ]
    }
   ],
   "source": [
    "class Cal:\n",
    "    def __init__(self):\n",
    "        self.l = int(input('enter length: '))\n",
    "        self.b = int(input('enter breadth: '))\n",
    "        self.h = int(input('enter height: '))\n",
    "        \n",
    "    def area(this):\n",
    "        a = this.l*this.b\n",
    "        print('the area is: ',a)\n",
    "    def volume(self):\n",
    "        v = self.l*self.b*self.h\n",
    "        print('the volume is: ',v)\n",
    "\n",
    "\n",
    "\n",
    "obj = Cal()\n",
    "print(obj)\n",
    "obj.volume()\n",
    "print(obj.l,obj.b,obj.h)"
   ]
  },
  {
   "cell_type": "code",
   "execution_count": 19,
   "metadata": {},
   "outputs": [
    {
     "name": "stdout",
     "output_type": "stream",
     "text": [
      "<class '__main__.Info'>\n",
      "Ram is 45 years old and lives in Kathmandu\n",
      "Ram is 45 years old and lives in Kathmandu\n"
     ]
    },
    {
     "data": {
      "text/plain": [
       "'Ram is 45 years old and lives in KathmanduHello'"
      ]
     },
     "execution_count": 19,
     "metadata": {},
     "output_type": "execute_result"
    }
   ],
   "source": [
    "class Info:\n",
    "    def __init__(self,name,age,add):\n",
    "        self.name = name\n",
    "        self.age = age\n",
    "        self.add = add\n",
    "    def __str__(self):# returns only string data type\n",
    "        return f'{self.name} is {self.age} years old and lives in {self.add}'\n",
    "obj = Info(\"Ram\",45,\"Kathmandu\")\n",
    "print(type(obj))\n",
    "print(obj)# so print function in obj prints the string of __str__() function,\n",
    "print(obj.__str__())\n",
    "str(obj) + \"Hello\""
   ]
  },
  {
   "cell_type": "code",
   "execution_count": 27,
   "metadata": {},
   "outputs": [
    {
     "name": "stdout",
     "output_type": "stream",
     "text": [
      "<class '__main__.Info'>\n",
      "{'Name': 'Ram', 'Age': 45}\n"
     ]
    }
   ],
   "source": [
    "class Info:\n",
    "    def __init__(self,name,age,add):\n",
    "        self.name = name\n",
    "        self.age = age\n",
    "        self.add = add\n",
    "    def __repr__(self):# returns dictionary too\n",
    "        return {'Name':self.name,'Age':self.age}\n",
    "obj = Info(\"Ram\",45,\"Kathmandu\")\n",
    "print(type(obj))\n",
    "print(obj.__repr__())"
   ]
  }
 ],
 "metadata": {
  "kernelspec": {
   "display_name": "Python 3",
   "language": "python",
   "name": "python3"
  },
  "language_info": {
   "codemirror_mode": {
    "name": "ipython",
    "version": 3
   },
   "file_extension": ".py",
   "mimetype": "text/x-python",
   "name": "python",
   "nbconvert_exporter": "python",
   "pygments_lexer": "ipython3",
   "version": "3.8.5"
  }
 },
 "nbformat": 4,
 "nbformat_minor": 4
}
