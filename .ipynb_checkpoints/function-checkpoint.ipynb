{
 "cells": [
  {
   "cell_type": "code",
   "execution_count": 1,
   "metadata": {},
   "outputs": [],
   "source": [
    "# print()\n",
    "# type()\n",
    "# int()\n",
    "# str()\n",
    "# float()\n",
    "# input()"
   ]
  },
  {
   "cell_type": "code",
   "execution_count": 2,
   "metadata": {},
   "outputs": [],
   "source": [
    "# def <function_name>():  #function defining\n",
    "#     <operations>\n",
    "    \n",
    "# <function_name>()   #function calling"
   ]
  },
  {
   "cell_type": "code",
   "execution_count": 4,
   "metadata": {},
   "outputs": [
    {
     "name": "stdout",
     "output_type": "stream",
     "text": [
      "Hello World\n"
     ]
    }
   ],
   "source": [
    "def hello():\n",
    "    print(\"Hello World\")\n",
    "\n",
    "hello()"
   ]
  },
  {
   "cell_type": "code",
   "execution_count": 1,
   "metadata": {},
   "outputs": [
    {
     "name": "stdout",
     "output_type": "stream",
     "text": [
      "Enter l = 1\n",
      "Enter b = 3\n",
      "The area is =  3\n"
     ]
    }
   ],
   "source": [
    "def area():\n",
    "    l = int(input(\"Enter l = \"))\n",
    "    b = int(input(\"Enter b = \"))\n",
    "    a = l*b\n",
    "    print(\"The area is = \",a)\n",
    "    \n",
    "area()"
   ]
  },
  {
   "cell_type": "code",
   "execution_count": 2,
   "metadata": {},
   "outputs": [
    {
     "name": "stdout",
     "output_type": "stream",
     "text": [
      "Enter p = 1000\n",
      "Enter t = 2\n",
      "Enter r = 3\n",
      "The value of i =  60.0\n"
     ]
    }
   ],
   "source": [
    "def cal():\n",
    "    p = int(input(\"Enter p = \")) #local variable\n",
    "    t = int(input(\"Enter t = \")) #local variable\n",
    "    r = int(input(\"Enter r = \")) #local variable\n",
    "    i = p*t*r/100 #local variable\n",
    "    print(\"The value of i = \",i)\n",
    "    \n",
    "cal()\n"
   ]
  },
  {
   "cell_type": "code",
   "execution_count": 5,
   "metadata": {},
   "outputs": [
    {
     "name": "stdout",
     "output_type": "stream",
     "text": [
      "Enter p = 100\n",
      "Enter t = 4\n",
      "Enter r = 3\n",
      "The value of i =  12.0\n",
      "100 4 3\n"
     ]
    }
   ],
   "source": [
    "p = int(input(\"Enter p = \")) #Global variable\n",
    "t = int(input(\"Enter t = \")) #Global variable\n",
    "r = int(input(\"Enter r = \")) #Global variable\n",
    "\n",
    "def cal():\n",
    "    i = p*t*r/100 #local variable\n",
    "    print(\"The value of i = \",i)\n",
    "\n",
    "cal()\n",
    "print(p,t,r)"
   ]
  },
  {
   "cell_type": "code",
   "execution_count": null,
   "metadata": {},
   "outputs": [],
   "source": [
    "# function with no arguments and no return type\n",
    "# function with arguments and no return type\n",
    "# function with no arguments and return type\n",
    "# function with arguments and return type"
   ]
  },
  {
   "cell_type": "code",
   "execution_count": null,
   "metadata": {},
   "outputs": [],
   "source": [
    "# function with no arguments and no return type\n",
    "p = int(input(\"Enter p = \")) #Global variable\n",
    "t = int(input(\"Enter t = \")) #Global variable\n",
    "r = int(input(\"Enter r = \")) #Global variable\n",
    "\n",
    "def cal():\n",
    "    i = p*t*r/100 #local variable\n",
    "    print(\"The value of i = \",i)\n",
    "\n",
    "cal()\n",
    "print(p,t,r)"
   ]
  },
  {
   "cell_type": "code",
   "execution_count": null,
   "metadata": {},
   "outputs": [],
   "source": [
    "# function with no arguments and no return type\n",
    "def area():\n",
    "    l = int(input(\"Enter l = \"))\n",
    "    b = int(input(\"Enter b = \"))\n",
    "    a = l*b\n",
    "    print(\"The area is = \",a)\n",
    "    \n",
    "area()"
   ]
  },
  {
   "cell_type": "code",
   "execution_count": null,
   "metadata": {},
   "outputs": [],
   "source": [
    "# function with arguments and no return type\n",
    "# def <function_name>(a,b,c):\n",
    "#     <operations>\n",
    "    \n",
    "# <function_name>(a,b,c)"
   ]
  },
  {
   "cell_type": "code",
   "execution_count": 6,
   "metadata": {},
   "outputs": [
    {
     "name": "stdout",
     "output_type": "stream",
     "text": [
      "40\n"
     ]
    }
   ],
   "source": [
    "# function with arguments and no return type\n",
    "def area(l,b):\n",
    "    a = l*b\n",
    "    print(a)\n",
    "\n",
    "area(10,4)"
   ]
  },
  {
   "cell_type": "code",
   "execution_count": 7,
   "metadata": {},
   "outputs": [
    {
     "name": "stdout",
     "output_type": "stream",
     "text": [
      "Enter l = 100\n",
      "Enter b = 23\n",
      "2300\n"
     ]
    }
   ],
   "source": [
    "# function with arguments and no return type\n",
    "def area(l,b):\n",
    "    a = l*b\n",
    "    print(a)\n",
    "\n",
    "l = int(input(\"Enter l = \"))\n",
    "b = int(input(\"Enter b = \"))\n",
    "area(l,b)"
   ]
  },
  {
   "cell_type": "code",
   "execution_count": 8,
   "metadata": {},
   "outputs": [
    {
     "name": "stdout",
     "output_type": "stream",
     "text": [
      "Enter l = 100\n",
      "Enter b = 23\n",
      "2300\n"
     ]
    }
   ],
   "source": [
    "# function with arguments and no return type\n",
    "l = int(input(\"Enter l = \"))\n",
    "b = int(input(\"Enter b = \"))\n",
    "\n",
    "def area(x,y):\n",
    "    a = x*y\n",
    "    print(a)\n",
    "\n",
    "area(l,b)"
   ]
  },
  {
   "cell_type": "code",
   "execution_count": 9,
   "metadata": {},
   "outputs": [
    {
     "name": "stdout",
     "output_type": "stream",
     "text": [
      "Enter l = 100\n",
      "Enter b = 23\n",
      "Enter h = 43\n",
      "2300\n",
      "98900\n"
     ]
    }
   ],
   "source": [
    "# function with arguments and no return type\n",
    "l = int(input(\"Enter l = \"))\n",
    "b = int(input(\"Enter b = \"))\n",
    "h = int(input(\"Enter h = \"))\n",
    "def area(x,y):\n",
    "    a = x*y\n",
    "    print(\"The area is =\",a)\n",
    "def volume(x,y,z):\n",
    "    v = x*y*z\n",
    "    print(\"The volume is = \",v)\n",
    "    \n",
    "area(l,b)\n",
    "volume(l,b,h)"
   ]
  },
  {
   "cell_type": "code",
   "execution_count": 11,
   "metadata": {},
   "outputs": [
    {
     "name": "stdout",
     "output_type": "stream",
     "text": [
      "C\n",
      "C++\n",
      "Java\n",
      "Python\n"
     ]
    }
   ],
   "source": [
    "def language(lan = \"Python\"):\n",
    "    print(lan)\n",
    "    \n",
    "language(\"C\")\n",
    "language(\"C++\")\n",
    "language(\"Java\")\n",
    "language()"
   ]
  },
  {
   "cell_type": "code",
   "execution_count": 22,
   "metadata": {},
   "outputs": [
    {
     "name": "stdout",
     "output_type": "stream",
     "text": [
      "300\n",
      "2000\n"
     ]
    }
   ],
   "source": [
    "# function with arguments and no return type\n",
    "def area(l,b = 20):\n",
    "    a = l*b\n",
    "    print(a)\n",
    "\n",
    "area(10,30)\n",
    "area(100)"
   ]
  },
  {
   "cell_type": "code",
   "execution_count": 25,
   "metadata": {},
   "outputs": [
    {
     "name": "stdout",
     "output_type": "stream",
     "text": [
      "Hello World\n"
     ]
    }
   ],
   "source": [
    "# return type function\n",
    "def hello():\n",
    "    a = \"Hello World\"\n",
    "    return a\n",
    "    \n",
    "print(hello())"
   ]
  },
  {
   "cell_type": "code",
   "execution_count": 26,
   "metadata": {},
   "outputs": [
    {
     "name": "stdout",
     "output_type": "stream",
     "text": [
      "Hello World\n"
     ]
    }
   ],
   "source": [
    "# return type function\n",
    "def hello():\n",
    "    a = \"Hello World\"\n",
    "    return a\n",
    "    \n",
    "b = hello()\n",
    "print(b)"
   ]
  },
  {
   "cell_type": "code",
   "execution_count": 2,
   "metadata": {},
   "outputs": [
    {
     "name": "stdout",
     "output_type": "stream",
     "text": [
      "Enter l = 10\n",
      "Enter b = 20\n",
      "The area is =  200\n",
      "Enter h = 5\n",
      "The volume is =  1000\n"
     ]
    }
   ],
   "source": [
    "def area():\n",
    "    l = int(input(\"Enter l = \"))\n",
    "    b = int(input(\"Enter b = \"))\n",
    "    a = l*b\n",
    "    return a\n",
    "\n",
    "ar = area()\n",
    "print(\"The area is = \",ar)\n",
    "h = int(input(\"Enter h = \"))\n",
    "v = ar*h\n",
    "print(\"The volume is = \",v)"
   ]
  },
  {
   "cell_type": "code",
   "execution_count": null,
   "metadata": {},
   "outputs": [],
   "source": [
    "# Prime and composite function"
   ]
  },
  {
   "cell_type": "code",
   "execution_count": 4,
   "metadata": {},
   "outputs": [
    {
     "name": "stdout",
     "output_type": "stream",
     "text": [
      "Enter a number: 8\n",
      "composite\n"
     ]
    }
   ],
   "source": [
    "num = int(input(\"Enter a number: \"))\n",
    "c = 0\n",
    "for i in range(1, num+1):\n",
    "  rem = num%i\n",
    "  if rem == 0:\n",
    "    c += 1\n",
    "\n",
    "if c == 2: \n",
    "  print(\"prime\")\n",
    "else:\n",
    "  print(\"composite\")"
   ]
  },
  {
   "cell_type": "code",
   "execution_count": 9,
   "metadata": {},
   "outputs": [
    {
     "name": "stdout",
     "output_type": "stream",
     "text": [
      "Enter a number: 3\n",
      "6\n"
     ]
    }
   ],
   "source": [
    "# 4! = 1*2*3*4\n",
    "\n",
    "#factorial of number using while loop\n",
    "\n",
    "i = 1\n",
    "n = int(input(\"Enter a number: \"))\n",
    "fac = 1\n",
    "\n",
    "while i<=n:\n",
    "  fac = fac * i\n",
    "  i += 1\n",
    "\n",
    "print(fac)"
   ]
  }
 ],
 "metadata": {
  "kernelspec": {
   "display_name": "Python 3",
   "language": "python",
   "name": "python3"
  },
  "language_info": {
   "codemirror_mode": {
    "name": "ipython",
    "version": 3
   },
   "file_extension": ".py",
   "mimetype": "text/x-python",
   "name": "python",
   "nbconvert_exporter": "python",
   "pygments_lexer": "ipython3",
   "version": "3.8.5"
  }
 },
 "nbformat": 4,
 "nbformat_minor": 2
}
