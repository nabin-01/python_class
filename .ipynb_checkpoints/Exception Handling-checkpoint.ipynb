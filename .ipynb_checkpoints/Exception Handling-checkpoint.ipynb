{
 "cells": [
  {
   "cell_type": "code",
   "execution_count": 1,
   "metadata": {},
   "outputs": [
    {
     "name": "stdout",
     "output_type": "stream",
     "text": [
      "enter age: dfdg\n",
      "enter value in integer.\n"
     ]
    }
   ],
   "source": [
    "try:\n",
    "    a = int(input('enter age: '))\n",
    "except:\n",
    "    print('enter value in integer.')\n"
   ]
  },
  {
   "cell_type": "code",
   "execution_count": 2,
   "metadata": {},
   "outputs": [
    {
     "name": "stdout",
     "output_type": "stream",
     "text": [
      "enter age: 10\n",
      "enter b: 0\n",
      "value of b can not be zero.\n",
      " division by zero\n"
     ]
    }
   ],
   "source": [
    "try:\n",
    "    a = int(input('enter age: '))\n",
    "    b = int(input('enter b: '))\n",
    "    c = a/b\n",
    "    print(c)\n",
    "except ValueError as err:\n",
    "    print('The age and b must be integer.\\n',err)\n",
    "except ZeroDivisionError as err:\n",
    "    print('value of b can not be zero.\\n',err)\n"
   ]
  },
  {
   "cell_type": "code",
   "execution_count": 4,
   "metadata": {},
   "outputs": [
    {
     "name": "stdout",
     "output_type": "stream",
     "text": [
      "enter age: 50\n",
      "enter b: tyr\n",
      "The age and b must be integer.\n",
      "enter age: 4654\n",
      "enter b: 0\n",
      "value of b can not be zero.\n",
      "enter age: 46\n",
      "enter b: 546\n",
      "the value of c is:  0.08424908424908426\n"
     ]
    }
   ],
   "source": [
    "def cal():\n",
    "    \n",
    "    try:\n",
    "        a = int(input('enter age: '))\n",
    "        b = int(input('enter b: '))\n",
    "        c = a/b\n",
    "        print('the value of c is: ',c)\n",
    "    except ValueError:\n",
    "        print('The age and b must be integer.')\n",
    "        cal()\n",
    "    except ZeroDivisionError:\n",
    "        print('value of b can not be zero.')\n",
    "        cal()\n",
    "cal()\n"
   ]
  },
  {
   "cell_type": "code",
   "execution_count": 5,
   "metadata": {},
   "outputs": [
    {
     "name": "stdout",
     "output_type": "stream",
     "text": [
      "enter age: 50\n",
      "enter b: 5\n",
      "10.0\n"
     ]
    }
   ],
   "source": [
    "try:\n",
    "    a = int(input('enter age: '))\n",
    "    b = int(input('enter b: '))\n",
    "    c = a/b\n",
    "except ValueError:\n",
    "    print('The age and b must be integer.')\n",
    "except ZeroDivisionError:\n",
    "    print('value of b can not be zero.')\n",
    "else:\n",
    "     print(c)"
   ]
  },
  {
   "cell_type": "code",
   "execution_count": 8,
   "metadata": {},
   "outputs": [
    {
     "name": "stdout",
     "output_type": "stream",
     "text": [
      "enter age: 564\n",
      "enter b: 0\n",
      "value of b can not be zero.\n",
      "something.\n"
     ]
    }
   ],
   "source": [
    "try:\n",
    "    a = int(input('enter age: '))\n",
    "    b = int(input('enter b: '))\n",
    "    c = a/b\n",
    "except ValueError:\n",
    "    print('The age and b must be integer.')\n",
    "except ZeroDivisionError:\n",
    "    print('value of b can not be zero.')\n",
    "else:\n",
    "     print(c)\n",
    "finally:\n",
    "    print('something.')"
   ]
  },
  {
   "cell_type": "code",
   "execution_count": 9,
   "metadata": {},
   "outputs": [
    {
     "name": "stdout",
     "output_type": "stream",
     "text": [
      "enter your name: fdg\n",
      "the first letter should be uppercase\n"
     ]
    }
   ],
   "source": [
    "try:\n",
    "    name = input('enter your name: ')\n",
    "    if name[0].isupper():\n",
    "        raise ZeroDivisionError\n",
    "    else:\n",
    "        print('the first letter should be uppercase')\n",
    "except ZeroDivisionError:\n",
    "    print('This is correct!')"
   ]
  },
  {
   "cell_type": "code",
   "execution_count": 10,
   "metadata": {},
   "outputs": [
    {
     "name": "stdout",
     "output_type": "stream",
     "text": [
      "b is greater.\n"
     ]
    }
   ],
   "source": [
    "a = 10\n",
    "b = 5\n",
    "assert b<a\n",
    "print('b is greater.')"
   ]
  },
  {
   "cell_type": "code",
   "execution_count": 11,
   "metadata": {},
   "outputs": [
    {
     "name": "stdout",
     "output_type": "stream",
     "text": [
      "b seeems greater.\n"
     ]
    }
   ],
   "source": [
    "try:\n",
    "    a = 5\n",
    "    b = 10\n",
    "    assert b<a\n",
    "    print(\"b is smaller.\")\n",
    "except AssertionError:\n",
    "    print('b seeems greater.')\n",
    "except:\n",
    "    print('b is greater.')"
   ]
  },
  {
   "cell_type": "code",
   "execution_count": 1,
   "metadata": {},
   "outputs": [
    {
     "name": "stdout",
     "output_type": "stream",
     "text": [
      "enter your name: Nabin123\n",
      "This is try block.\n",
      "Nabin123\n"
     ]
    }
   ],
   "source": [
    "try:\n",
    "    name = input('enter your name: ')\n",
    "    assert name[0].isupper()\n",
    "    print('This is try block.')\n",
    "    print(name)\n",
    "except:\n",
    "    print('first letter should be upper case')"
   ]
  },
  {
   "cell_type": "code",
   "execution_count": 7,
   "metadata": {},
   "outputs": [
    {
     "name": "stdout",
     "output_type": "stream",
     "text": [
      "enter username: adgfs\n",
      "enter password: esf\n",
      "The age and password donot match!\n",
      "You are in finally block.\n",
      "enter username: dsf\n",
      "enter password: dsfg\n",
      "The age and password donot match!\n",
      "You are in finally block.\n",
      "enter username: admin\n",
      "enter password: admin123\n",
      "You are logged in!\n",
      "you passed in the 3rd attempt\n",
      "You are in finally block.\n"
     ]
    }
   ],
   "source": [
    "un = \"admin\"\n",
    "pw = \"admin123\"\n",
    "count = 1\n",
    "def main():\n",
    "    global count\n",
    "    while count <= 3:\n",
    "        try:\n",
    "            a = input('enter username: ')\n",
    "            b = input('enter password: ')\n",
    "            assert ((a == un) & (b == pw))\n",
    "            print('You are logged in!')\n",
    "        except:# except AssertionError:\n",
    "            print('The age and password donot match!')\n",
    "            count+=1\n",
    "        else:  \n",
    "            print(f'you passed in the {count}rd attempt')# print('you passed in the attempt',count)\n",
    "            break\n",
    "        finally:\n",
    "            print('You are in finally block.')\n",
    "    else:\n",
    "         print('you entered more than 3 attempts.')\n",
    "main()"
   ]
  }
 ],
 "metadata": {
  "kernelspec": {
   "display_name": "Python 3",
   "language": "python",
   "name": "python3"
  },
  "language_info": {
   "codemirror_mode": {
    "name": "ipython",
    "version": 3
   },
   "file_extension": ".py",
   "mimetype": "text/x-python",
   "name": "python",
   "nbconvert_exporter": "python",
   "pygments_lexer": "ipython3",
   "version": "3.8.5"
  }
 },
 "nbformat": 4,
 "nbformat_minor": 4
}
