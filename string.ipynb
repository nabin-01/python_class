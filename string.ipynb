{
 "cells": [
  {
   "cell_type": "code",
   "execution_count": 1,
   "metadata": {},
   "outputs": [
    {
     "name": "stdout",
     "output_type": "stream",
     "text": [
      "<class 'str'>\n"
     ]
    }
   ],
   "source": [
    "a = \"Python\"\n",
    "print(type(a))"
   ]
  },
  {
   "cell_type": "code",
   "execution_count": 2,
   "metadata": {},
   "outputs": [
    {
     "name": "stdout",
     "output_type": "stream",
     "text": [
      "HelloWorld\n"
     ]
    }
   ],
   "source": [
    "a = \"Hello\"\n",
    "b = \"World\"\n",
    "print(a+b)"
   ]
  },
  {
   "cell_type": "code",
   "execution_count": 5,
   "metadata": {},
   "outputs": [
    {
     "name": "stdout",
     "output_type": "stream",
     "text": [
      "Hello World\n",
      "Hello World\n",
      "\n"
     ]
    }
   ],
   "source": [
    "a = \"Hello World\\n\"\n",
    "print(a*2)"
   ]
  },
  {
   "cell_type": "code",
   "execution_count": 6,
   "metadata": {},
   "outputs": [
    {
     "name": "stdout",
     "output_type": "stream",
     "text": [
      "H\n"
     ]
    }
   ],
   "source": [
    "a = \"Hello World\"\n",
    "print(a[0])"
   ]
  },
  {
   "cell_type": "code",
   "execution_count": 8,
   "metadata": {},
   "outputs": [
    {
     "name": "stdout",
     "output_type": "stream",
     "text": [
      "Hello\n",
      " World\n"
     ]
    }
   ],
   "source": [
    "a = \"Hello World\"\n",
    "print(a[:5])\n",
    "print(a[5:])"
   ]
  },
  {
   "cell_type": "code",
   "execution_count": 12,
   "metadata": {},
   "outputs": [
    {
     "name": "stdout",
     "output_type": "stream",
     "text": [
      "HloWrd\n"
     ]
    }
   ],
   "source": [
    "a = \"Hello World\"\n",
    "print(a[0:11:2])"
   ]
  },
  {
   "cell_type": "code",
   "execution_count": 2,
   "metadata": {},
   "outputs": [
    {
     "name": "stdout",
     "output_type": "stream",
     "text": [
      "dlroW olleH\n",
      "dlroW olleH\n",
      "H\n"
     ]
    }
   ],
   "source": [
    "a = \"Hello World\"\n",
    "print(a[10::-1])\n",
    "print(a[::-1])"
   ]
  },
  {
   "cell_type": "code",
   "execution_count": 33,
   "metadata": {},
   "outputs": [
    {
     "name": "stdout",
     "output_type": "stream",
     "text": [
      "Enter name = nabin\n",
      "Enter age = 25\n",
      "Enter add = baniyani\n",
      "Hello my name is nabin. I am from baniyani. I am 25.\n"
     ]
    }
   ],
   "source": [
    "# String Operation\n",
    "name = input(\"Enter name = \")\n",
    "age = input(\"Enter age = \")\n",
    "add = input(\"Enter add = \")\n",
    "info = \"Hello my name is \"+name+\". I am from \"+add+\". I am \"+age+\".\"\n",
    "print(info)"
   ]
  },
  {
   "cell_type": "code",
   "execution_count": 3,
   "metadata": {},
   "outputs": [
    {
     "name": "stdout",
     "output_type": "stream",
     "text": [
      "Enter name = nabin\n",
      "Enter age = 25\n",
      "Enter add = baniyani\n",
      "Hello my name is nabin. I am from baniyani. I am 25 years old.\n"
     ]
    }
   ],
   "source": [
    "# String Formatting\n",
    "name = input(\"Enter name = \")\n",
    "age = int(input(\"Enter age = \"))\n",
    "add = input(\"Enter add = \")\n",
    "info = f\"Hello my name is {name}. I am from {add}. I am {age} years old.\"\n",
    "print(info)"
   ]
  },
  {
   "cell_type": "code",
   "execution_count": 5,
   "metadata": {},
   "outputs": [
    {
     "name": "stdout",
     "output_type": "stream",
     "text": [
      "enter your name: nabin\n",
      "enter your address: baniyani\n",
      "enter your ph no: 9836474537\n",
      "enter your age: 25\n"
     ]
    },
    {
     "ename": "TypeError",
     "evalue": "can only concatenate str (not \"int\") to str",
     "output_type": "error",
     "traceback": [
      "\u001b[1;31m---------------------------------------------------------------------------\u001b[0m",
      "\u001b[1;31mTypeError\u001b[0m                                 Traceback (most recent call last)",
      "\u001b[1;32m<ipython-input-5-5dd505712631>\u001b[0m in \u001b[0;36m<module>\u001b[1;34m\u001b[0m\n\u001b[0;32m      3\u001b[0m \u001b[0mph\u001b[0m \u001b[1;33m=\u001b[0m \u001b[0mint\u001b[0m\u001b[1;33m(\u001b[0m\u001b[0minput\u001b[0m\u001b[1;33m(\u001b[0m\u001b[1;34m'enter your ph no: '\u001b[0m\u001b[1;33m)\u001b[0m\u001b[1;33m)\u001b[0m\u001b[1;33m\u001b[0m\u001b[1;33m\u001b[0m\u001b[0m\n\u001b[0;32m      4\u001b[0m \u001b[0mage\u001b[0m \u001b[1;33m=\u001b[0m \u001b[0mint\u001b[0m\u001b[1;33m(\u001b[0m\u001b[0minput\u001b[0m\u001b[1;33m(\u001b[0m\u001b[1;34m'enter your age: '\u001b[0m\u001b[1;33m)\u001b[0m\u001b[1;33m)\u001b[0m\u001b[1;33m\u001b[0m\u001b[1;33m\u001b[0m\u001b[0m\n\u001b[1;32m----> 5\u001b[1;33m \u001b[0minfo\u001b[0m \u001b[1;33m=\u001b[0m \u001b[1;34m\"hello my name is \"\u001b[0m\u001b[1;33m+\u001b[0m\u001b[0mname\u001b[0m\u001b[1;33m+\u001b[0m\u001b[1;34m\".i live in \"\u001b[0m\u001b[1;33m+\u001b[0m\u001b[0maddr\u001b[0m\u001b[1;33m+\u001b[0m\u001b[1;34m\".my age is \"\u001b[0m\u001b[1;33m+\u001b[0m\u001b[0mage\u001b[0m\u001b[1;33m+\u001b[0m\u001b[1;34m\" years old and my phone no is \"\u001b[0m\u001b[1;33m+\u001b[0m\u001b[0mph\u001b[0m\u001b[1;33m+\u001b[0m\u001b[1;34m\".\"\u001b[0m\u001b[1;33m\u001b[0m\u001b[1;33m\u001b[0m\u001b[0m\n\u001b[0m\u001b[0;32m      6\u001b[0m \u001b[0minfo\u001b[0m\u001b[1;33m\u001b[0m\u001b[1;33m\u001b[0m\u001b[0m\n",
      "\u001b[1;31mTypeError\u001b[0m: can only concatenate str (not \"int\") to str"
     ]
    }
   ],
   "source": [
    "name = input('enter your name: ')\n",
    "addr = input('enter your address: ')\n",
    "ph = int(input('enter your ph no: '))\n",
    "age = int(input('enter your age: '))\n",
    "info = \"hello my name is \"+name+\".i live in \"+addr+\".my age is \"+age+\" years old and my phone no is \"+ph+\".\"\n",
    "info\n"
   ]
  },
  {
   "cell_type": "code",
   "execution_count": 7,
   "metadata": {},
   "outputs": [
    {
     "name": "stdout",
     "output_type": "stream",
     "text": [
      "enter your name: nabin\n",
      "enter your address: baniyani\n",
      "enter your phn no: 9813356457\n",
      "enter your age: 25\n",
      "hello my name is nabin. I live in baniyani. My age is 25 and my contact number is 9813356457.\n"
     ]
    }
   ],
   "source": [
    "name = input('enter your name: ')\n",
    "add = input('enter your address: ')\n",
    "ph = int(input('enter your phn no: '))\n",
    "age = int(input('enter your age: '))\n",
    "info = f\"hello my name is {name}. I live in {add}. My age is {age} and my contact number is {ph}.\"\n",
    "print(info)"
   ]
  },
  {
   "cell_type": "code",
   "execution_count": 19,
   "metadata": {},
   "outputs": [
    {
     "name": "stdout",
     "output_type": "stream",
     "text": [
      "Enter any data for search = Ram\n",
      "Yes 1\n"
     ]
    }
   ],
   "source": [
    "search = input(\"Enter any data for search = \")\n",
    "if search in info:\n",
    "    print(\"Yes\",info.count(search))\n",
    "else:\n",
    "    print(\"No\")"
   ]
  },
  {
   "cell_type": "code",
   "execution_count": 6,
   "metadata": {},
   "outputs": [
    {
     "name": "stdout",
     "output_type": "stream",
     "text": [
      "enter any data to search: 25\n",
      "yes 1\n"
     ]
    }
   ],
   "source": [
    "data = input(\"enter any data to search: \")\n",
    "if data in info:\n",
    "    print(\"yes\", info.count(data))\n",
    "else:\n",
    "    print(\"no\")"
   ]
  },
  {
   "cell_type": "code",
   "execution_count": 7,
   "metadata": {},
   "outputs": [
    {
     "name": "stdout",
     "output_type": "stream",
     "text": [
      "PYTHON IS SUPER.\n",
      "python is super.\n",
      "Python is super.\n",
      "pYTHON IS SUPER.\n"
     ]
    }
   ],
   "source": [
    "a = \"Python is super.\"\n",
    "print(a.upper())\n",
    "print(a.lower())\n",
    "print(a.capitalize())\n",
    "print(a.swapcase())"
   ]
  },
  {
   "cell_type": "code",
   "execution_count": 8,
   "metadata": {},
   "outputs": [
    {
     "name": "stdout",
     "output_type": "stream",
     "text": [
      "['my', 'name.', 'is', 'Nabin']\n"
     ]
    }
   ],
   "source": [
    "a = \"my name. is Nabin\"\n",
    "a = a.split()#groups every word(string) to a list\n",
    "print(a)"
   ]
  },
  {
   "cell_type": "code",
   "execution_count": 75,
   "metadata": {},
   "outputs": [
    {
     "name": "stdout",
     "output_type": "stream",
     "text": [
      "['my name', ' is Nabin']\n"
     ]
    }
   ],
   "source": [
    "a = \"my name. is Nabin\"\n",
    "a = a.split(\".\")\n",
    "print(a)"
   ]
  },
  {
   "cell_type": "code",
   "execution_count": 72,
   "metadata": {},
   "outputs": [
    {
     "name": "stdout",
     "output_type": "stream",
     "text": [
      "['my name', ' is nabin']\n"
     ]
    }
   ],
   "source": [
    "a = \"my name. is Nabin\"\n",
    "a = a.lower().split(\".\")\n",
    "print(a)"
   ]
  },
  {
   "cell_type": "code",
   "execution_count": 17,
   "metadata": {},
   "outputs": [
    {
     "name": "stdout",
     "output_type": "stream",
     "text": [
      "enter any data to search:Am\n",
      "Yes 2\n"
     ]
    }
   ],
   "source": [
    "info_lower = []\n",
    "info = \"My name is nabin Raj Ghimire. I am from Kathmandu and i am 25 years old.\"\n",
    "info_lower = info.lower().split()#first lowers and splits evry string to list by split().so search functions properly. \n",
    "search = input('enter any data to search:').lower() #because list has no lower() function.^\n",
    "if search in info_lower:\n",
    "    print('Yes',info_lower.count(search))#searches user string and counts\n",
    "else:\n",
    "    print('no')"
   ]
  },
  {
   "cell_type": "code",
   "execution_count": 18,
   "metadata": {},
   "outputs": [
    {
     "name": "stdout",
     "output_type": "stream",
     "text": [
      "Enter any data for search = Am\n",
      "Yes 4\n"
     ]
    }
   ],
   "source": [
    "info = \"Hello my name is Ram. I am from Kathmandu I am 34\"\n",
    "lower_info = info.lower()#lowers every string \n",
    "search = input(\"Enter any data for search = \").lower()\n",
    "if search in lower_info:#but it counts concat strings like 'am' is also counted in 'name' string\n",
    "    print(\"Yes\",lower_info.count(search))\n",
    "else:\n",
    "    print(\"No\")"
   ]
  },
  {
   "cell_type": "code",
   "execution_count": 22,
   "metadata": {},
   "outputs": [
    {
     "name": "stdout",
     "output_type": "stream",
     "text": [
      "Enter n = 2\n",
      "Enter name = nabin\n",
      "Enter phone = 9836463755\n",
      "Enter name = nabin1\n",
      "Enter phone = 9846573648\n",
      "nabin---9836463755\n",
      "nabin1---9846573648\n",
      "\n"
     ]
    }
   ],
   "source": [
    "s = ''\n",
    "n = int(input(\"Enter n = \"))\n",
    "for i in range(n):\n",
    "    name = input(\"Enter name = \")\n",
    "    phone = int(input(\"Enter phone = \"))\n",
    "    info = f\"{name}---{phone}\\n\"\n",
    "    s+=info\n",
    "print(s)"
   ]
  },
  {
   "cell_type": "code",
   "execution_count": 41,
   "metadata": {},
   "outputs": [
    {
     "name": "stdout",
     "output_type": "stream",
     "text": [
      "Enter name:\tNaBIN\n",
      "Yes 1\n"
     ]
    }
   ],
   "source": [
    "s1 = s.lower().split()\n",
    "name = input(\"Enter name:\\t\").lower()\n",
    "if name in s1:\n",
    "    print(\"Yes\",s1.count(name))\n",
    "else:\n",
    "    print(\"No\")"
   ]
  },
  {
   "cell_type": "code",
   "execution_count": 50,
   "metadata": {},
   "outputs": [
    {
     "name": "stdout",
     "output_type": "stream",
     "text": [
      "Hari ---9836463443\n",
      "Shyam---9836374827\n",
      "\n"
     ]
    }
   ],
   "source": [
    "s = s.replace('Ram','Hari ')\n",
    "print(s)"
   ]
  },
  {
   "cell_type": "code",
   "execution_count": 55,
   "metadata": {},
   "outputs": [
    {
     "name": "stdout",
     "output_type": "stream",
     "text": [
      "enter name:\tRam\n",
      "yes 1\n",
      "enter replace name string:\tNAbin\n",
      "NAbin---9873647264\n",
      "Shyam---9873626474\n"
     ]
    }
   ],
   "source": [
    "finalData = \"\"\n",
    "s = \"Ram---9873647264\\nShyam---9873626474\"\n",
    "name = input('enter name:\\t')\n",
    "if name in s:\n",
    "    print(\"yes\",s.count(name))\n",
    "    replaceValue = input(\"enter replace name string:\\t\")\n",
    "    finalData = s.replace(name,replaceValue)# replace parameters must be of string\n",
    "else:\n",
    "    print('there is no such name string.')\n",
    "print(finalData)"
   ]
  },
  {
   "cell_type": "code",
   "execution_count": null,
   "metadata": {},
   "outputs": [],
   "source": [
    "# WAP for result management system \n",
    "# (name,physics,che,math,eng,Nepali,Total,Per)"
   ]
  },
  {
   "cell_type": "code",
   "execution_count": 4,
   "metadata": {},
   "outputs": [
    {
     "name": "stdout",
     "output_type": "stream",
     "text": [
      "\n",
      "Shyam---9867665654\n"
     ]
    }
   ],
   "source": [
    "s = \"Ram---9856554543\\nShyam---9867665654\"\n",
    "s = s.replace('Ram---9856554543','')\n",
    "print(s)"
   ]
  },
  {
   "cell_type": "code",
   "execution_count": 95,
   "metadata": {},
   "outputs": [
    {
     "data": {
      "text/plain": [
       "['Hello', 'World']"
      ]
     },
     "execution_count": 95,
     "metadata": {},
     "output_type": "execute_result"
    }
   ],
   "source": [
    "# split()\n",
    "a = \"Hello World\"\n",
    "a.split()"
   ]
  },
  {
   "cell_type": "code",
   "execution_count": 88,
   "metadata": {},
   "outputs": [
    {
     "data": {
      "text/plain": [
       "['hello']"
      ]
     },
     "execution_count": 88,
     "metadata": {},
     "output_type": "execute_result"
    }
   ],
   "source": [
    "a = \"hello\"\n",
    "a.split()"
   ]
  },
  {
   "cell_type": "code",
   "execution_count": 98,
   "metadata": {},
   "outputs": [
    {
     "data": {
      "text/plain": [
       "['h', 'e', 'l', 'l', 'o']"
      ]
     },
     "execution_count": 98,
     "metadata": {},
     "output_type": "execute_result"
    }
   ],
   "source": [
    "a = \"hello\"\n",
    "list(a)# returns every character of string in list"
   ]
  },
  {
   "cell_type": "code",
   "execution_count": 85,
   "metadata": {},
   "outputs": [
    {
     "name": "stdout",
     "output_type": "stream",
     "text": [
      "i am ok.\n"
     ]
    }
   ],
   "source": [
    "a = \" \".join(['i', 'am', 'ok.'])#similar to => #a = \" \".join(('i', 'am', 'ok.')) # join returns a string.\n",
    "print(a)"
   ]
  },
  {
   "cell_type": "code",
   "execution_count": 6,
   "metadata": {},
   "outputs": [
    {
     "data": {
      "text/plain": [
       "['Hello', 'World']"
      ]
     },
     "execution_count": 6,
     "metadata": {},
     "output_type": "execute_result"
    }
   ],
   "source": [
    "# split()\n",
    "a = \"Hello.World\"\n",
    "a.split('.')"
   ]
  },
  {
   "cell_type": "code",
   "execution_count": 74,
   "metadata": {},
   "outputs": [
    {
     "name": "stdout",
     "output_type": "stream",
     "text": [
      "['Ram---9856554543', 'Shyam---9867665654']\n"
     ]
    }
   ],
   "source": [
    "s = \"Ram---9856554543\\nShyam---9867665654\"\n",
    "x = s.split('\\n')\n",
    "print(x)"
   ]
  },
  {
   "cell_type": "code",
   "execution_count": null,
   "metadata": {},
   "outputs": [],
   "source": []
  },
  {
   "cell_type": "code",
   "execution_count": null,
   "metadata": {},
   "outputs": [],
   "source": []
  }
 ],
 "metadata": {
  "kernelspec": {
   "display_name": "Python 3",
   "language": "python",
   "name": "python3"
  },
  "language_info": {
   "codemirror_mode": {
    "name": "ipython",
    "version": 3
   },
   "file_extension": ".py",
   "mimetype": "text/x-python",
   "name": "python",
   "nbconvert_exporter": "python",
   "pygments_lexer": "ipython3",
   "version": "3.8.5"
  }
 },
 "nbformat": 4,
 "nbformat_minor": 2
}
